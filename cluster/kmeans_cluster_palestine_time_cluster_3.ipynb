{
 "cells": [
  {
   "cell_type": "code",
   "execution_count": 1,
   "id": "5a66ce73",
   "metadata": {},
   "outputs": [],
   "source": [
    "import pandas as pd\n",
    "from scipy.cluster.hierarchy import linkage,fcluster\n",
    "from scipy.cluster.vq import whiten\n",
    "from scipy.cluster.hierarchy import dendrogram\n",
    "import matplotlib.pyplot as plt\n",
    "import seaborn as sns\n",
    "from scipy.cluster.vq import kmeans, vq"
   ]
  },
  {
   "cell_type": "code",
   "execution_count": 2,
   "id": "a4378ee0",
   "metadata": {},
   "outputs": [],
   "source": [
    "df = pd.read_csv('https://s3grouparmenia.s3.eu-central-1.amazonaws.com/Transcripts_with_sentiment_topic')"
   ]
  },
  {
   "cell_type": "code",
   "execution_count": 3,
   "id": "d8a0755d",
   "metadata": {},
   "outputs": [],
   "source": [
    "# Keep only speeches with the dominant topic of israel-palestine.\n",
    "df_palestina = df[df['dominant_topic'] == 5]"
   ]
  },
  {
   "cell_type": "code",
   "execution_count": 4,
   "id": "cc422a54",
   "metadata": {},
   "outputs": [
    {
     "name": "stderr",
     "output_type": "stream",
     "text": [
      "C:\\Users\\david\\anaconda3\\envs\\mda\\lib\\site-packages\\ipykernel_launcher.py:2: SettingWithCopyWarning: \n",
      "A value is trying to be set on a copy of a slice from a DataFrame.\n",
      "Try using .loc[row_indexer,col_indexer] = value instead\n",
      "\n",
      "See the caveats in the documentation: https://pandas.pydata.org/pandas-docs/stable/user_guide/indexing.html#returning-a-view-versus-a-copy\n",
      "  \n",
      "C:\\Users\\david\\anaconda3\\envs\\mda\\lib\\site-packages\\ipykernel_launcher.py:3: SettingWithCopyWarning: \n",
      "A value is trying to be set on a copy of a slice from a DataFrame.\n",
      "Try using .loc[row_indexer,col_indexer] = value instead\n",
      "\n",
      "See the caveats in the documentation: https://pandas.pydata.org/pandas-docs/stable/user_guide/indexing.html#returning-a-view-versus-a-copy\n",
      "  This is separate from the ipykernel package so we can avoid doing imports until\n",
      "C:\\Users\\david\\anaconda3\\envs\\mda\\lib\\site-packages\\ipykernel_launcher.py:4: SettingWithCopyWarning: \n",
      "A value is trying to be set on a copy of a slice from a DataFrame.\n",
      "Try using .loc[row_indexer,col_indexer] = value instead\n",
      "\n",
      "See the caveats in the documentation: https://pandas.pydata.org/pandas-docs/stable/user_guide/indexing.html#returning-a-view-versus-a-copy\n",
      "  after removing the cwd from sys.path.\n",
      "C:\\Users\\david\\anaconda3\\envs\\mda\\lib\\site-packages\\ipykernel_launcher.py:5: SettingWithCopyWarning: \n",
      "A value is trying to be set on a copy of a slice from a DataFrame.\n",
      "Try using .loc[row_indexer,col_indexer] = value instead\n",
      "\n",
      "See the caveats in the documentation: https://pandas.pydata.org/pandas-docs/stable/user_guide/indexing.html#returning-a-view-versus-a-copy\n",
      "  \"\"\"\n",
      "C:\\Users\\david\\anaconda3\\envs\\mda\\lib\\site-packages\\ipykernel_launcher.py:6: SettingWithCopyWarning: \n",
      "A value is trying to be set on a copy of a slice from a DataFrame.\n",
      "Try using .loc[row_indexer,col_indexer] = value instead\n",
      "\n",
      "See the caveats in the documentation: https://pandas.pydata.org/pandas-docs/stable/user_guide/indexing.html#returning-a-view-versus-a-copy\n",
      "  \n"
     ]
    }
   ],
   "source": [
    "# Normalize before grouping ? or should we do this after grouping\n",
    "df_palestina['scaled_polarity'] = whiten(df_palestina['polarity'])\n",
    "df_palestina['scaled_subjectivity'] = whiten(df_palestina['subjectivity'])\n",
    "df_palestina['scaled_pos'] = whiten(df_palestina['pos'])\n",
    "df_palestina['scaled_neg'] = whiten(df_palestina['neg'])\n",
    "df_palestina['scaled_neu'] = whiten(df_palestina['neu'])"
   ]
  },
  {
   "cell_type": "code",
   "execution_count": 5,
   "id": "a792cf80",
   "metadata": {},
   "outputs": [],
   "source": [
    "variables = ['scaled_polarity','scaled_subjectivity','scaled_pos','scaled_neg','scaled_neu']"
   ]
  },
  {
   "cell_type": "markdown",
   "id": "64442de8",
   "metadata": {},
   "source": [
    "<h2> [1970,1980[ </h2>"
   ]
  },
  {
   "cell_type": "code",
   "execution_count": 6,
   "id": "81e61cdd",
   "metadata": {},
   "outputs": [
    {
     "data": {
      "text/plain": [
       "(158, 18)"
      ]
     },
     "execution_count": 6,
     "metadata": {},
     "output_type": "execute_result"
    }
   ],
   "source": [
    "df_1970_1980 = df_palestina[df_palestina['Year_x'] < 1980]\n",
    "df_1970_1980.shape"
   ]
  },
  {
   "cell_type": "code",
   "execution_count": 7,
   "id": "380829e5",
   "metadata": {},
   "outputs": [],
   "source": [
    "grouped_df_1970_1980 = df_1970_1980.groupby(['Country_x'])[variables].mean()"
   ]
  },
  {
   "cell_type": "code",
   "execution_count": 8,
   "id": "6ea98836",
   "metadata": {},
   "outputs": [],
   "source": [
    "# Declaring variables for use\n",
    "distortions = []\n",
    "num_clusters = range(1, 7)\n",
    "# Populating distortions for various clusters\n",
    "for i in num_clusters:\n",
    "    centroids, distortion = kmeans(grouped_df_1970_1980[variables], i)\n",
    "    distortions.append(distortion)"
   ]
  },
  {
   "cell_type": "code",
   "execution_count": 9,
   "id": "11ccc567",
   "metadata": {},
   "outputs": [
    {
     "data": {
      "image/png": "[encoded data removed]",
      "text/plain": [
       "<Figure size 432x288 with 1 Axes>"
      ]
     },
     "metadata": {
      "needs_background": "light"
     },
     "output_type": "display_data"
    }
   ],
   "source": [
    "# Plotting elbow plot data\n",
    "elbow_plot_data = pd.DataFrame({'num_clusters': num_clusters,\n",
    "'distortions': distortions})\n",
    "sns.lineplot(x='num_clusters', y='distortions',\n",
    "data = elbow_plot_data)\n",
    "plt.show()"
   ]
  },
  {
   "cell_type": "code",
   "execution_count": 10,
   "id": "2e63905f",
   "metadata": {},
   "outputs": [],
   "source": [
    "cluster_centers,_ = kmeans(grouped_df_1970_1980[variables],3)"
   ]
  },
  {
   "cell_type": "code",
   "execution_count": 11,
   "id": "2ed329d6",
   "metadata": {},
   "outputs": [],
   "source": [
    "grouped_df_1970_1980['cluster_labels_1'], _ = vq(grouped_df_1970_1980[variables],cluster_centers)"
   ]
  },
  {
   "cell_type": "code",
   "execution_count": 12,
   "id": "0fcc6e52",
   "metadata": {},
   "outputs": [
    {
     "data": {
      "text/plain": [
       "<AxesSubplot:xlabel='cluster_labels_1'>"
      ]
     },
     "execution_count": 12,
     "metadata": {},
     "output_type": "execute_result"
    },
    {
     "data": {
      "image/png": "[encoded data removed]",
      "text/plain": [
       "<Figure size 432x288 with 1 Axes>"
      ]
     },
     "metadata": {
      "needs_background": "light"
     },
     "output_type": "display_data"
    }
   ],
   "source": [
    "grouped_df_1970_1980.groupby('cluster_labels_1')[variables].mean().plot(kind='bar')"
   ]
  },
  {
   "cell_type": "markdown",
   "id": "00524c9c",
   "metadata": {},
   "source": [
    "<h2> [1980,1990[ </h2>"
   ]
  },
  {
   "cell_type": "code",
   "execution_count": 13,
   "id": "c4f5d9f2",
   "metadata": {},
   "outputs": [
    {
     "data": {
      "text/plain": [
       "(169, 18)"
      ]
     },
     "execution_count": 13,
     "metadata": {},
     "output_type": "execute_result"
    }
   ],
   "source": [
    "df_1980_1990 = df_palestina[(df_palestina['Year_x'] >= 1980) & (df_palestina['Year_x'] < 1990) ]\n",
    "df_1980_1990.shape"
   ]
  },
  {
   "cell_type": "code",
   "execution_count": 14,
   "id": "b5d98437",
   "metadata": {},
   "outputs": [],
   "source": [
    "grouped_df_1980_1990 = df_1980_1990.groupby(['Country_x'])[variables].mean()"
   ]
  },
  {
   "cell_type": "code",
   "execution_count": 15,
   "id": "e7b0664a",
   "metadata": {},
   "outputs": [],
   "source": [
    "# Declaring variables for use\n",
    "distortions = []\n",
    "num_clusters = range(1, 7)\n",
    "# Populating distortions for various clusters\n",
    "for i in num_clusters:\n",
    "    centroids, distortion = kmeans(grouped_df_1980_1990[variables], i)\n",
    "    distortions.append(distortion)"
   ]
  },
  {
   "cell_type": "code",
   "execution_count": 16,
   "id": "02e57a4d",
   "metadata": {},
   "outputs": [
    {
     "data": {
      "image/png": "[encoded data removed]",
      "text/plain": [
       "<Figure size 432x288 with 1 Axes>"
      ]
     },
     "metadata": {
      "needs_background": "light"
     },
     "output_type": "display_data"
    }
   ],
   "source": [
    "# Plotting elbow plot data\n",
    "elbow_plot_data = pd.DataFrame({'num_clusters': num_clusters,\n",
    "'distortions': distortions})\n",
    "sns.lineplot(x='num_clusters', y='distortions',\n",
    "data = elbow_plot_data)\n",
    "plt.show()"
   ]
  },
  {
   "cell_type": "code",
   "execution_count": 17,
   "id": "3cbd7288",
   "metadata": {},
   "outputs": [],
   "source": [
    "cluster_centers,_ = kmeans(grouped_df_1980_1990[variables],3)\n",
    "grouped_df_1980_1990['cluster_labels_2'], _ = vq(grouped_df_1980_1990[variables],cluster_centers)"
   ]
  },
  {
   "cell_type": "code",
   "execution_count": 18,
   "id": "14dd4e6e",
   "metadata": {},
   "outputs": [
    {
     "data": {
      "text/plain": [
       "<AxesSubplot:xlabel='cluster_labels_2'>"
      ]
     },
     "execution_count": 18,
     "metadata": {},
     "output_type": "execute_result"
    },
    {
     "data": {
      "image/png": "[encoded data removed]",
      "text/plain": [
       "<Figure size 432x288 with 1 Axes>"
      ]
     },
     "metadata": {
      "needs_background": "light"
     },
     "output_type": "display_data"
    }
   ],
   "source": [
    "grouped_df_1980_1990.groupby('cluster_labels_2')[variables].mean().plot(kind='bar')"
   ]
  },
  {
   "cell_type": "markdown",
   "id": "b176a093",
   "metadata": {},
   "source": [
    "<h2> [1990,2000[ </h2>"
   ]
  },
  {
   "cell_type": "code",
   "execution_count": 19,
   "id": "2c7121ee",
   "metadata": {},
   "outputs": [
    {
     "data": {
      "text/plain": [
       "(64, 18)"
      ]
     },
     "execution_count": 19,
     "metadata": {},
     "output_type": "execute_result"
    }
   ],
   "source": [
    "df_1990_2000 = df_palestina[(df_palestina['Year_x'] >= 1990) & (df_palestina['Year_x'] < 2000) ]\n",
    "df_1990_2000.shape"
   ]
  },
  {
   "cell_type": "code",
   "execution_count": 20,
   "id": "d21e7762",
   "metadata": {},
   "outputs": [],
   "source": [
    "grouped_df_1990_2000 = df_1990_2000.groupby(['Country_x'])[variables].mean()"
   ]
  },
  {
   "cell_type": "code",
   "execution_count": 21,
   "id": "77bba4de",
   "metadata": {},
   "outputs": [],
   "source": [
    "# Declaring variables for use\n",
    "distortions = []\n",
    "num_clusters = range(1, 7)\n",
    "# Populating distortions for various clusters\n",
    "for i in num_clusters:\n",
    "    centroids, distortion = kmeans(grouped_df_1990_2000[variables], i)\n",
    "    distortions.append(distortion)"
   ]
  },
  {
   "cell_type": "code",
   "execution_count": 22,
   "id": "60bcebe4",
   "metadata": {},
   "outputs": [
    {
     "data": {
      "image/png": "[encoded data removed]",
      "text/plain": [
       "<Figure size 432x288 with 1 Axes>"
      ]
     },
     "metadata": {
      "needs_background": "light"
     },
     "output_type": "display_data"
    }
   ],
   "source": [
    "# Plotting elbow plot data\n",
    "elbow_plot_data = pd.DataFrame({'num_clusters': num_clusters,\n",
    "'distortions': distortions})\n",
    "sns.lineplot(x='num_clusters', y='distortions',\n",
    "data = elbow_plot_data)\n",
    "plt.show()"
   ]
  },
  {
   "cell_type": "code",
   "execution_count": 23,
   "id": "550bb025",
   "metadata": {},
   "outputs": [],
   "source": [
    "cluster_centers,_ = kmeans(grouped_df_1990_2000[variables],3)\n",
    "grouped_df_1990_2000['cluster_labels_3'], _ = vq(grouped_df_1990_2000[variables],cluster_centers)"
   ]
  },
  {
   "cell_type": "code",
   "execution_count": 24,
   "id": "1746526a",
   "metadata": {},
   "outputs": [
    {
     "data": {
      "text/plain": [
       "<AxesSubplot:xlabel='cluster_labels_3'>"
      ]
     },
     "execution_count": 24,
     "metadata": {},
     "output_type": "execute_result"
    },
    {
     "data": {
      "image/png": "[encoded data removed]",
      "text/plain": [
       "<Figure size 432x288 with 1 Axes>"
      ]
     },
     "metadata": {
      "needs_background": "light"
     },
     "output_type": "display_data"
    }
   ],
   "source": [
    "grouped_df_1990_2000.groupby('cluster_labels_3')[variables].mean().plot(kind='bar')"
   ]
  },
  {
   "cell_type": "markdown",
   "id": "85cc169b",
   "metadata": {},
   "source": [
    "<h2> [2000,2010[ </h2>"
   ]
  },
  {
   "cell_type": "code",
   "execution_count": 25,
   "id": "f512b593",
   "metadata": {},
   "outputs": [
    {
     "data": {
      "text/plain": [
       "(50, 18)"
      ]
     },
     "execution_count": 25,
     "metadata": {},
     "output_type": "execute_result"
    }
   ],
   "source": [
    "df_2000_2010 = df_palestina[(df_palestina['Year_x'] >= 2000) & (df_palestina['Year_x'] < 2010) ]\n",
    "df_2000_2010.shape"
   ]
  },
  {
   "cell_type": "code",
   "execution_count": 26,
   "id": "30f8dc1d",
   "metadata": {},
   "outputs": [],
   "source": [
    "grouped_df_2000_2010 = df_2000_2010.groupby(['Country_x'])[variables].mean()"
   ]
  },
  {
   "cell_type": "code",
   "execution_count": 27,
   "id": "03a8eecf",
   "metadata": {},
   "outputs": [],
   "source": [
    "# Declaring variables for use\n",
    "distortions = []\n",
    "num_clusters = range(1, 7)\n",
    "# Populating distortions for various clusters\n",
    "for i in num_clusters:\n",
    "    centroids, distortion = kmeans(grouped_df_2000_2010[variables], i)\n",
    "    distortions.append(distortion)"
   ]
  },
  {
   "cell_type": "code",
   "execution_count": 28,
   "id": "cec3da67",
   "metadata": {},
   "outputs": [
    {
     "data": {
      "image/png": "[encoded data removed]",
      "text/plain": [
       "<Figure size 432x288 with 1 Axes>"
      ]
     },
     "metadata": {
      "needs_background": "light"
     },
     "output_type": "display_data"
    }
   ],
   "source": [
    "# Plotting elbow plot data\n",
    "elbow_plot_data = pd.DataFrame({'num_clusters': num_clusters,\n",
    "'distortions': distortions})\n",
    "sns.lineplot(x='num_clusters', y='distortions',\n",
    "data = elbow_plot_data)\n",
    "plt.show()"
   ]
  },
  {
   "cell_type": "code",
   "execution_count": 29,
   "id": "825d5491",
   "metadata": {},
   "outputs": [],
   "source": [
    "cluster_centers,_ = kmeans(grouped_df_2000_2010[variables],3)\n",
    "grouped_df_2000_2010['cluster_labels_4'], _ = vq(grouped_df_2000_2010[variables],cluster_centers)"
   ]
  },
  {
   "cell_type": "code",
   "execution_count": 30,
   "id": "fd1f9cf4",
   "metadata": {},
   "outputs": [
    {
     "data": {
      "text/plain": [
       "<AxesSubplot:xlabel='cluster_labels_4'>"
      ]
     },
     "execution_count": 30,
     "metadata": {},
     "output_type": "execute_result"
    },
    {
     "data": {
      "image/png": "[encoded data removed]",
      "text/plain": [
       "<Figure size 432x288 with 1 Axes>"
      ]
     },
     "metadata": {
      "needs_background": "light"
     },
     "output_type": "display_data"
    }
   ],
   "source": [
    "grouped_df_2000_2010.groupby('cluster_labels_4')[variables].mean().plot(kind='bar')"
   ]
  },
  {
   "cell_type": "markdown",
   "id": "2c1c9eb3",
   "metadata": {},
   "source": [
    "<h2> [2010,...[ </h2>"
   ]
  },
  {
   "cell_type": "code",
   "execution_count": 31,
   "id": "4a3bb48c",
   "metadata": {},
   "outputs": [
    {
     "data": {
      "text/plain": [
       "(52, 18)"
      ]
     },
     "execution_count": 31,
     "metadata": {},
     "output_type": "execute_result"
    }
   ],
   "source": [
    "df_2010_current = df_palestina[df_palestina['Year_x'] >= 2010]\n",
    "df_2010_current.shape"
   ]
  },
  {
   "cell_type": "code",
   "execution_count": 32,
   "id": "fc840cff",
   "metadata": {},
   "outputs": [],
   "source": [
    "grouped_df_2010_current = df_2010_current.groupby(['Country_x'])[variables].mean()"
   ]
  },
  {
   "cell_type": "code",
   "execution_count": 33,
   "id": "2e8fa665",
   "metadata": {},
   "outputs": [],
   "source": [
    "# Declaring variables for use\n",
    "distortions = []\n",
    "num_clusters = range(1, 7)\n",
    "# Populating distortions for various clusters\n",
    "for i in num_clusters:\n",
    "    centroids, distortion = kmeans(grouped_df_2010_current[variables], i)\n",
    "    distortions.append(distortion)"
   ]
  },
  {
   "cell_type": "code",
   "execution_count": 34,
   "id": "8f890036",
   "metadata": {},
   "outputs": [
    {
     "data": {
      "image/png": "[encoded data removed]",
      "text/plain": [
       "<Figure size 432x288 with 1 Axes>"
      ]
     },
     "metadata": {
      "needs_background": "light"
     },
     "output_type": "display_data"
    }
   ],
   "source": [
    "# Plotting elbow plot data\n",
    "elbow_plot_data = pd.DataFrame({'num_clusters': num_clusters,\n",
    "'distortions': distortions})\n",
    "sns.lineplot(x='num_clusters', y='distortions',\n",
    "data = elbow_plot_data)\n",
    "plt.show()"
   ]
  },
  {
   "cell_type": "code",
   "execution_count": 35,
   "id": "e1002798",
   "metadata": {},
   "outputs": [],
   "source": [
    "cluster_centers,_ = kmeans(grouped_df_2010_current[variables],3)\n",
    "grouped_df_2010_current['cluster_labels_5'], _ = vq(grouped_df_2010_current[variables],cluster_centers)"
   ]
  },
  {
   "cell_type": "code",
   "execution_count": 36,
   "id": "4b56640c",
   "metadata": {},
   "outputs": [
    {
     "data": {
      "text/plain": [
       "<AxesSubplot:xlabel='cluster_labels_5'>"
      ]
     },
     "execution_count": 36,
     "metadata": {},
     "output_type": "execute_result"
    },
    {
     "data": {
      "image/png": "[encoded data removed]",
      "text/plain": [
       "<Figure size 432x288 with 1 Axes>"
      ]
     },
     "metadata": {
      "needs_background": "light"
     },
     "output_type": "display_data"
    }
   ],
   "source": [
    "grouped_df_2010_current.groupby('cluster_labels_5')[variables].mean().plot(kind='bar')"
   ]
  },
  {
   "cell_type": "markdown",
   "id": "9674c8e3",
   "metadata": {},
   "source": [
    "<h3> Merge it </h3>"
   ]
  },
  {
   "cell_type": "code",
   "execution_count": 38,
   "id": "133c71a1",
   "metadata": {},
   "outputs": [],
   "source": [
    "grouped_df_1970_1980['country'] = grouped_df_1970_1980.index\n",
    "grouped_df_1980_1990['country'] = grouped_df_1980_1990.index\n",
    "grouped_df_1990_2000['country'] = grouped_df_1990_2000.index\n",
    "grouped_df_2000_2010['country'] = grouped_df_2000_2010.index\n",
    "grouped_df_2010_current['country'] = grouped_df_2010_current.index\n",
    "grouped_df_1970_1980 = grouped_df_1970_1980[['cluster_labels_1','country']]\n",
    "grouped_df_1980_1990 = grouped_df_1980_1990[['cluster_labels_2','country']]\n",
    "grouped_df_1990_2000 = grouped_df_1990_2000[['cluster_labels_3','country']]\n",
    "grouped_df_2000_2010= grouped_df_2000_2010[['cluster_labels_4','country']]\n",
    "grouped_df_2010_current= grouped_df_2010_current[['cluster_labels_5','country']]"
   ]
  },
  {
   "cell_type": "code",
   "execution_count": 40,
   "id": "4746a069",
   "metadata": {},
   "outputs": [],
   "source": [
    "import pandas as pd\n",
    "from functools import reduce"
   ]
  },
  {
   "cell_type": "code",
   "execution_count": 41,
   "id": "443e0802",
   "metadata": {},
   "outputs": [],
   "source": [
    "data_frames = [grouped_df_1970_1980, grouped_df_1980_1990, grouped_df_1990_2000,\n",
    "               grouped_df_2000_2010,grouped_df_2010_current]\n",
    "df_merged = reduce(lambda  left,right: pd.merge(left,right,on=['country'],\n",
    "                                            how='outer'), data_frames)\n",
    "df_merged = df_merged.set_index('country')"
   ]
  },
  {
   "cell_type": "code",
   "execution_count": 42,
   "id": "29ce928e",
   "metadata": {},
   "outputs": [
    {
     "data": {
      "text/html": [
       "<div>\n",
       "<style scoped>\n",
       "    .dataframe tbody tr th:only-of-type {\n",
       "        vertical-align: middle;\n",
       "    }\n",
       "\n",
       "    .dataframe tbody tr th {\n",
       "        vertical-align: top;\n",
       "    }\n",
       "\n",
       "    .dataframe thead th {\n",
       "        text-align: right;\n",
       "    }\n",
       "</style>\n",
       "<table border=\"1\" class=\"dataframe\">\n",
       "  <thead>\n",
       "    <tr style=\"text-align: right;\">\n",
       "      <th></th>\n",
       "      <th>cluster_labels_1</th>\n",
       "      <th>cluster_labels_2</th>\n",
       "      <th>cluster_labels_3</th>\n",
       "      <th>cluster_labels_4</th>\n",
       "      <th>cluster_labels_5</th>\n",
       "    </tr>\n",
       "    <tr>\n",
       "      <th>country</th>\n",
       "      <th></th>\n",
       "      <th></th>\n",
       "      <th></th>\n",
       "      <th></th>\n",
       "      <th></th>\n",
       "    </tr>\n",
       "  </thead>\n",
       "  <tbody>\n",
       "    <tr>\n",
       "      <th>AFG</th>\n",
       "      <td>1.0</td>\n",
       "      <td>0.0</td>\n",
       "      <td>1.0</td>\n",
       "      <td>0.0</td>\n",
       "      <td>NaN</td>\n",
       "    </tr>\n",
       "    <tr>\n",
       "      <th>AGO</th>\n",
       "      <td>2.0</td>\n",
       "      <td>2.0</td>\n",
       "      <td>NaN</td>\n",
       "      <td>NaN</td>\n",
       "      <td>NaN</td>\n",
       "    </tr>\n",
       "    <tr>\n",
       "      <th>ALB</th>\n",
       "      <td>0.0</td>\n",
       "      <td>1.0</td>\n",
       "      <td>NaN</td>\n",
       "      <td>NaN</td>\n",
       "      <td>NaN</td>\n",
       "    </tr>\n",
       "    <tr>\n",
       "      <th>BDI</th>\n",
       "      <td>1.0</td>\n",
       "      <td>NaN</td>\n",
       "      <td>NaN</td>\n",
       "      <td>NaN</td>\n",
       "      <td>NaN</td>\n",
       "    </tr>\n",
       "    <tr>\n",
       "      <th>BEN</th>\n",
       "      <td>0.0</td>\n",
       "      <td>1.0</td>\n",
       "      <td>NaN</td>\n",
       "      <td>NaN</td>\n",
       "      <td>NaN</td>\n",
       "    </tr>\n",
       "    <tr>\n",
       "      <th>BHR</th>\n",
       "      <td>2.0</td>\n",
       "      <td>1.0</td>\n",
       "      <td>0.0</td>\n",
       "      <td>NaN</td>\n",
       "      <td>NaN</td>\n",
       "    </tr>\n",
       "    <tr>\n",
       "      <th>BLR</th>\n",
       "      <td>0.0</td>\n",
       "      <td>2.0</td>\n",
       "      <td>NaN</td>\n",
       "      <td>NaN</td>\n",
       "      <td>NaN</td>\n",
       "    </tr>\n",
       "    <tr>\n",
       "      <th>CHN</th>\n",
       "      <td>0.0</td>\n",
       "      <td>0.0</td>\n",
       "      <td>NaN</td>\n",
       "      <td>NaN</td>\n",
       "      <td>NaN</td>\n",
       "    </tr>\n",
       "    <tr>\n",
       "      <th>COG</th>\n",
       "      <td>0.0</td>\n",
       "      <td>NaN</td>\n",
       "      <td>NaN</td>\n",
       "      <td>NaN</td>\n",
       "      <td>NaN</td>\n",
       "    </tr>\n",
       "    <tr>\n",
       "      <th>CUB</th>\n",
       "      <td>2.0</td>\n",
       "      <td>2.0</td>\n",
       "      <td>2.0</td>\n",
       "      <td>1.0</td>\n",
       "      <td>1.0</td>\n",
       "    </tr>\n",
       "    <tr>\n",
       "      <th>DZA</th>\n",
       "      <td>0.0</td>\n",
       "      <td>NaN</td>\n",
       "      <td>NaN</td>\n",
       "      <td>NaN</td>\n",
       "      <td>NaN</td>\n",
       "    </tr>\n",
       "    <tr>\n",
       "      <th>EGY</th>\n",
       "      <td>0.0</td>\n",
       "      <td>NaN</td>\n",
       "      <td>NaN</td>\n",
       "      <td>0.0</td>\n",
       "      <td>0.0</td>\n",
       "    </tr>\n",
       "    <tr>\n",
       "      <th>GIN</th>\n",
       "      <td>0.0</td>\n",
       "      <td>NaN</td>\n",
       "      <td>NaN</td>\n",
       "      <td>NaN</td>\n",
       "      <td>NaN</td>\n",
       "    </tr>\n",
       "    <tr>\n",
       "      <th>GRD</th>\n",
       "      <td>0.0</td>\n",
       "      <td>0.0</td>\n",
       "      <td>NaN</td>\n",
       "      <td>NaN</td>\n",
       "      <td>NaN</td>\n",
       "    </tr>\n",
       "    <tr>\n",
       "      <th>HUN</th>\n",
       "      <td>1.0</td>\n",
       "      <td>NaN</td>\n",
       "      <td>NaN</td>\n",
       "      <td>NaN</td>\n",
       "      <td>NaN</td>\n",
       "    </tr>\n",
       "    <tr>\n",
       "      <th>IRN</th>\n",
       "      <td>2.0</td>\n",
       "      <td>2.0</td>\n",
       "      <td>2.0</td>\n",
       "      <td>2.0</td>\n",
       "      <td>1.0</td>\n",
       "    </tr>\n",
       "    <tr>\n",
       "      <th>IRQ</th>\n",
       "      <td>0.0</td>\n",
       "      <td>0.0</td>\n",
       "      <td>1.0</td>\n",
       "      <td>0.0</td>\n",
       "      <td>0.0</td>\n",
       "    </tr>\n",
       "    <tr>\n",
       "      <th>ISR</th>\n",
       "      <td>0.0</td>\n",
       "      <td>2.0</td>\n",
       "      <td>2.0</td>\n",
       "      <td>1.0</td>\n",
       "      <td>0.0</td>\n",
       "    </tr>\n",
       "    <tr>\n",
       "      <th>JOR</th>\n",
       "      <td>2.0</td>\n",
       "      <td>1.0</td>\n",
       "      <td>0.0</td>\n",
       "      <td>NaN</td>\n",
       "      <td>NaN</td>\n",
       "    </tr>\n",
       "    <tr>\n",
       "      <th>KHM</th>\n",
       "      <td>0.0</td>\n",
       "      <td>0.0</td>\n",
       "      <td>NaN</td>\n",
       "      <td>NaN</td>\n",
       "      <td>NaN</td>\n",
       "    </tr>\n",
       "    <tr>\n",
       "      <th>KWT</th>\n",
       "      <td>2.0</td>\n",
       "      <td>1.0</td>\n",
       "      <td>0.0</td>\n",
       "      <td>NaN</td>\n",
       "      <td>NaN</td>\n",
       "    </tr>\n",
       "    <tr>\n",
       "      <th>LAO</th>\n",
       "      <td>1.0</td>\n",
       "      <td>0.0</td>\n",
       "      <td>NaN</td>\n",
       "      <td>NaN</td>\n",
       "      <td>NaN</td>\n",
       "    </tr>\n",
       "    <tr>\n",
       "      <th>LBN</th>\n",
       "      <td>0.0</td>\n",
       "      <td>1.0</td>\n",
       "      <td>2.0</td>\n",
       "      <td>0.0</td>\n",
       "      <td>1.0</td>\n",
       "    </tr>\n",
       "    <tr>\n",
       "      <th>LBY</th>\n",
       "      <td>2.0</td>\n",
       "      <td>2.0</td>\n",
       "      <td>2.0</td>\n",
       "      <td>1.0</td>\n",
       "      <td>2.0</td>\n",
       "    </tr>\n",
       "    <tr>\n",
       "      <th>MLI</th>\n",
       "      <td>0.0</td>\n",
       "      <td>NaN</td>\n",
       "      <td>NaN</td>\n",
       "      <td>NaN</td>\n",
       "      <td>NaN</td>\n",
       "    </tr>\n",
       "    <tr>\n",
       "      <th>MOZ</th>\n",
       "      <td>0.0</td>\n",
       "      <td>2.0</td>\n",
       "      <td>NaN</td>\n",
       "      <td>NaN</td>\n",
       "      <td>NaN</td>\n",
       "    </tr>\n",
       "    <tr>\n",
       "      <th>MRT</th>\n",
       "      <td>1.0</td>\n",
       "      <td>NaN</td>\n",
       "      <td>NaN</td>\n",
       "      <td>NaN</td>\n",
       "      <td>NaN</td>\n",
       "    </tr>\n",
       "    <tr>\n",
       "      <th>NIC</th>\n",
       "      <td>2.0</td>\n",
       "      <td>2.0</td>\n",
       "      <td>NaN</td>\n",
       "      <td>NaN</td>\n",
       "      <td>NaN</td>\n",
       "    </tr>\n",
       "    <tr>\n",
       "      <th>PAK</th>\n",
       "      <td>2.0</td>\n",
       "      <td>NaN</td>\n",
       "      <td>NaN</td>\n",
       "      <td>1.0</td>\n",
       "      <td>NaN</td>\n",
       "    </tr>\n",
       "    <tr>\n",
       "      <th>QAT</th>\n",
       "      <td>1.0</td>\n",
       "      <td>1.0</td>\n",
       "      <td>NaN</td>\n",
       "      <td>NaN</td>\n",
       "      <td>0.0</td>\n",
       "    </tr>\n",
       "    <tr>\n",
       "      <th>SAU</th>\n",
       "      <td>2.0</td>\n",
       "      <td>1.0</td>\n",
       "      <td>0.0</td>\n",
       "      <td>1.0</td>\n",
       "      <td>1.0</td>\n",
       "    </tr>\n",
       "    <tr>\n",
       "      <th>SYC</th>\n",
       "      <td>2.0</td>\n",
       "      <td>0.0</td>\n",
       "      <td>NaN</td>\n",
       "      <td>NaN</td>\n",
       "      <td>NaN</td>\n",
       "    </tr>\n",
       "    <tr>\n",
       "      <th>SYR</th>\n",
       "      <td>0.0</td>\n",
       "      <td>2.0</td>\n",
       "      <td>2.0</td>\n",
       "      <td>0.0</td>\n",
       "      <td>1.0</td>\n",
       "    </tr>\n",
       "    <tr>\n",
       "      <th>TCD</th>\n",
       "      <td>0.0</td>\n",
       "      <td>NaN</td>\n",
       "      <td>NaN</td>\n",
       "      <td>NaN</td>\n",
       "      <td>NaN</td>\n",
       "    </tr>\n",
       "    <tr>\n",
       "      <th>UKR</th>\n",
       "      <td>2.0</td>\n",
       "      <td>NaN</td>\n",
       "      <td>NaN</td>\n",
       "      <td>NaN</td>\n",
       "      <td>NaN</td>\n",
       "    </tr>\n",
       "    <tr>\n",
       "      <th>VNM</th>\n",
       "      <td>1.0</td>\n",
       "      <td>2.0</td>\n",
       "      <td>NaN</td>\n",
       "      <td>NaN</td>\n",
       "      <td>NaN</td>\n",
       "    </tr>\n",
       "    <tr>\n",
       "      <th>YDYE</th>\n",
       "      <td>0.0</td>\n",
       "      <td>2.0</td>\n",
       "      <td>NaN</td>\n",
       "      <td>NaN</td>\n",
       "      <td>NaN</td>\n",
       "    </tr>\n",
       "    <tr>\n",
       "      <th>YEM</th>\n",
       "      <td>1.0</td>\n",
       "      <td>1.0</td>\n",
       "      <td>2.0</td>\n",
       "      <td>2.0</td>\n",
       "      <td>2.0</td>\n",
       "    </tr>\n",
       "    <tr>\n",
       "      <th>ARG</th>\n",
       "      <td>NaN</td>\n",
       "      <td>0.0</td>\n",
       "      <td>NaN</td>\n",
       "      <td>NaN</td>\n",
       "      <td>NaN</td>\n",
       "    </tr>\n",
       "    <tr>\n",
       "      <th>ETH</th>\n",
       "      <td>NaN</td>\n",
       "      <td>2.0</td>\n",
       "      <td>NaN</td>\n",
       "      <td>NaN</td>\n",
       "      <td>NaN</td>\n",
       "    </tr>\n",
       "    <tr>\n",
       "      <th>MAR</th>\n",
       "      <td>NaN</td>\n",
       "      <td>0.0</td>\n",
       "      <td>NaN</td>\n",
       "      <td>NaN</td>\n",
       "      <td>NaN</td>\n",
       "    </tr>\n",
       "    <tr>\n",
       "      <th>SGP</th>\n",
       "      <td>NaN</td>\n",
       "      <td>0.0</td>\n",
       "      <td>NaN</td>\n",
       "      <td>NaN</td>\n",
       "      <td>NaN</td>\n",
       "    </tr>\n",
       "    <tr>\n",
       "      <th>STP</th>\n",
       "      <td>NaN</td>\n",
       "      <td>1.0</td>\n",
       "      <td>NaN</td>\n",
       "      <td>NaN</td>\n",
       "      <td>NaN</td>\n",
       "    </tr>\n",
       "    <tr>\n",
       "      <th>TGO</th>\n",
       "      <td>NaN</td>\n",
       "      <td>2.0</td>\n",
       "      <td>NaN</td>\n",
       "      <td>NaN</td>\n",
       "      <td>NaN</td>\n",
       "    </tr>\n",
       "    <tr>\n",
       "      <th>ARE</th>\n",
       "      <td>NaN</td>\n",
       "      <td>NaN</td>\n",
       "      <td>0.0</td>\n",
       "      <td>NaN</td>\n",
       "      <td>NaN</td>\n",
       "    </tr>\n",
       "    <tr>\n",
       "      <th>PRK</th>\n",
       "      <td>NaN</td>\n",
       "      <td>NaN</td>\n",
       "      <td>1.0</td>\n",
       "      <td>2.0</td>\n",
       "      <td>0.0</td>\n",
       "    </tr>\n",
       "    <tr>\n",
       "      <th>SDN</th>\n",
       "      <td>NaN</td>\n",
       "      <td>NaN</td>\n",
       "      <td>1.0</td>\n",
       "      <td>NaN</td>\n",
       "      <td>NaN</td>\n",
       "    </tr>\n",
       "    <tr>\n",
       "      <th>TJK</th>\n",
       "      <td>NaN</td>\n",
       "      <td>NaN</td>\n",
       "      <td>2.0</td>\n",
       "      <td>NaN</td>\n",
       "      <td>NaN</td>\n",
       "    </tr>\n",
       "    <tr>\n",
       "      <th>PSE</th>\n",
       "      <td>NaN</td>\n",
       "      <td>NaN</td>\n",
       "      <td>NaN</td>\n",
       "      <td>2.0</td>\n",
       "      <td>0.0</td>\n",
       "    </tr>\n",
       "    <tr>\n",
       "      <th>USA</th>\n",
       "      <td>NaN</td>\n",
       "      <td>NaN</td>\n",
       "      <td>NaN</td>\n",
       "      <td>1.0</td>\n",
       "      <td>NaN</td>\n",
       "    </tr>\n",
       "    <tr>\n",
       "      <th>GUY</th>\n",
       "      <td>NaN</td>\n",
       "      <td>NaN</td>\n",
       "      <td>NaN</td>\n",
       "      <td>NaN</td>\n",
       "      <td>0.0</td>\n",
       "    </tr>\n",
       "    <tr>\n",
       "      <th>VEN</th>\n",
       "      <td>NaN</td>\n",
       "      <td>NaN</td>\n",
       "      <td>NaN</td>\n",
       "      <td>NaN</td>\n",
       "      <td>1.0</td>\n",
       "    </tr>\n",
       "  </tbody>\n",
       "</table>\n",
       "</div>"
      ],
      "text/plain": [
       "         cluster_labels_1  cluster_labels_2  cluster_labels_3  \\\n",
       "country                                                         \n",
       "AFG                   1.0               0.0               1.0   \n",
       "AGO                   2.0               2.0               NaN   \n",
       "ALB                   0.0               1.0               NaN   \n",
       "BDI                   1.0               NaN               NaN   \n",
       "BEN                   0.0               1.0               NaN   \n",
       "BHR                   2.0               1.0               0.0   \n",
       "BLR                   0.0               2.0               NaN   \n",
       "CHN                   0.0               0.0               NaN   \n",
       "COG                   0.0               NaN               NaN   \n",
       "CUB                   2.0               2.0               2.0   \n",
       "DZA                   0.0               NaN               NaN   \n",
       "EGY                   0.0               NaN               NaN   \n",
       "GIN                   0.0               NaN               NaN   \n",
       "GRD                   0.0               0.0               NaN   \n",
       "HUN                   1.0               NaN               NaN   \n",
       "IRN                   2.0               2.0               2.0   \n",
       "IRQ                   0.0               0.0               1.0   \n",
       "ISR                   0.0               2.0               2.0   \n",
       "JOR                   2.0               1.0               0.0   \n",
       "KHM                   0.0               0.0               NaN   \n",
       "KWT                   2.0               1.0               0.0   \n",
       "LAO                   1.0               0.0               NaN   \n",
       "LBN                   0.0               1.0               2.0   \n",
       "LBY                   2.0               2.0               2.0   \n",
       "MLI                   0.0               NaN               NaN   \n",
       "MOZ                   0.0               2.0               NaN   \n",
       "MRT                   1.0               NaN               NaN   \n",
       "NIC                   2.0               2.0               NaN   \n",
       "PAK                   2.0               NaN               NaN   \n",
       "QAT                   1.0               1.0               NaN   \n",
       "SAU                   2.0               1.0               0.0   \n",
       "SYC                   2.0               0.0               NaN   \n",
       "SYR                   0.0               2.0               2.0   \n",
       "TCD                   0.0               NaN               NaN   \n",
       "UKR                   2.0               NaN               NaN   \n",
       "VNM                   1.0               2.0               NaN   \n",
       "YDYE                  0.0               2.0               NaN   \n",
       "YEM                   1.0               1.0               2.0   \n",
       "ARG                   NaN               0.0               NaN   \n",
       "ETH                   NaN               2.0               NaN   \n",
       "MAR                   NaN               0.0               NaN   \n",
       "SGP                   NaN               0.0               NaN   \n",
       "STP                   NaN               1.0               NaN   \n",
       "TGO                   NaN               2.0               NaN   \n",
       "ARE                   NaN               NaN               0.0   \n",
       "PRK                   NaN               NaN               1.0   \n",
       "SDN                   NaN               NaN               1.0   \n",
       "TJK                   NaN               NaN               2.0   \n",
       "PSE                   NaN               NaN               NaN   \n",
       "USA                   NaN               NaN               NaN   \n",
       "GUY                   NaN               NaN               NaN   \n",
       "VEN                   NaN               NaN               NaN   \n",
       "\n",
       "         cluster_labels_4  cluster_labels_5  \n",
       "country                                      \n",
       "AFG                   0.0               NaN  \n",
       "AGO                   NaN               NaN  \n",
       "ALB                   NaN               NaN  \n",
       "BDI                   NaN               NaN  \n",
       "BEN                   NaN               NaN  \n",
       "BHR                   NaN               NaN  \n",
       "BLR                   NaN               NaN  \n",
       "CHN                   NaN               NaN  \n",
       "COG                   NaN               NaN  \n",
       "CUB                   1.0               1.0  \n",
       "DZA                   NaN               NaN  \n",
       "EGY                   0.0               0.0  \n",
       "GIN                   NaN               NaN  \n",
       "GRD                   NaN               NaN  \n",
       "HUN                   NaN               NaN  \n",
       "IRN                   2.0               1.0  \n",
       "IRQ                   0.0               0.0  \n",
       "ISR                   1.0               0.0  \n",
       "JOR                   NaN               NaN  \n",
       "KHM                   NaN               NaN  \n",
       "KWT                   NaN               NaN  \n",
       "LAO                   NaN               NaN  \n",
       "LBN                   0.0               1.0  \n",
       "LBY                   1.0               2.0  \n",
       "MLI                   NaN               NaN  \n",
       "MOZ                   NaN               NaN  \n",
       "MRT                   NaN               NaN  \n",
       "NIC                   NaN               NaN  \n",
       "PAK                   1.0               NaN  \n",
       "QAT                   NaN               0.0  \n",
       "SAU                   1.0               1.0  \n",
       "SYC                   NaN               NaN  \n",
       "SYR                   0.0               1.0  \n",
       "TCD                   NaN               NaN  \n",
       "UKR                   NaN               NaN  \n",
       "VNM                   NaN               NaN  \n",
       "YDYE                  NaN               NaN  \n",
       "YEM                   2.0               2.0  \n",
       "ARG                   NaN               NaN  \n",
       "ETH                   NaN               NaN  \n",
       "MAR                   NaN               NaN  \n",
       "SGP                   NaN               NaN  \n",
       "STP                   NaN               NaN  \n",
       "TGO                   NaN               NaN  \n",
       "ARE                   NaN               NaN  \n",
       "PRK                   2.0               0.0  \n",
       "SDN                   NaN               NaN  \n",
       "TJK                   NaN               NaN  \n",
       "PSE                   2.0               0.0  \n",
       "USA                   1.0               NaN  \n",
       "GUY                   NaN               0.0  \n",
       "VEN                   NaN               1.0  "
      ]
     },
     "execution_count": 42,
     "metadata": {},
     "output_type": "execute_result"
    }
   ],
   "source": [
    "df_merged"
   ]
  },
  {
   "cell_type": "code",
   "execution_count": null,
   "id": "94728f36",
   "metadata": {},
   "outputs": [],
   "source": [
    "df_merged.to_csv('df_merged.csv')"
   ]
  }
 ],
 "metadata": {
  "kernelspec": {
   "display_name": "Python 3",
   "language": "python",
   "name": "python3"
  },
  "language_info": {
   "codemirror_mode": {
    "name": "ipython",
    "version": 3
   },
   "file_extension": ".py",
   "mimetype": "text/x-python",
   "name": "python",
   "nbconvert_exporter": "python",
   "pygments_lexer": "ipython3",
   "version": "3.7.10"
  }
 },
 "nbformat": 4,
 "nbformat_minor": 5
}
