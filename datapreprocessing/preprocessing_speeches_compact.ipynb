{
 "cells": [
  {
   "cell_type": "code",
   "execution_count": 3,
   "id": "464c60d6",
   "metadata": {},
   "outputs": [],
   "source": [
    "import pandas as pd\n",
    "import re\n",
    "import string\n",
    "import nltk\n",
    "from nltk.corpus import stopwords\n",
    "from nltk.tokenize import word_tokenize\n",
    "import spacy\n",
    "from nltk.stem import WordNetLemmatizer"
   ]
  },
  {
   "cell_type": "code",
   "execution_count": 4,
   "id": "be39bb2a",
   "metadata": {},
   "outputs": [],
   "source": [
    "df = pd.read_csv('C:/Users/david/Documents/0_kul/1_ma_stds_1/0_mda/project/data/merged.csv', delimiter=',')"
   ]
  },
  {
   "cell_type": "code",
   "execution_count": 11,
   "id": "17557b98",
   "metadata": {},
   "outputs": [],
   "source": [
    "class DataCleaners():\n",
    "\n",
    "    def clean_text(text):\n",
    "        text = text.lower()\n",
    "        text = re.sub(\"\\n\", '', text)\n",
    "        text = re.sub(\"\\t\",'',text)\n",
    "        text = re.sub(r'[0-9]', '', text) #ideally this removes only line number such as \"xxx.\" 9/11 can be an important nb\n",
    "        text = re.sub(r'\\[,!.*?\\]', '', text)\n",
    "        text = re.sub(r'[%s]' % re.escape(string.punctuation), ' ', text) # removes the possibility to tokenize by sentence\n",
    "        return text\n",
    "    \n",
    "    def remove_stopwords(text):\n",
    "        filtered = []\n",
    "        stopwords_corpus = nltk.corpus.stopwords.words('english')\n",
    "        stopwords_additional = ['united','nations','nation', 'international','society','organization','organizations',\n",
    "                                'relations','relation','global','charter','general','assembly','/n','/t','/n/n']\n",
    "        stop_words = stopwords_corpus + stopwords_additional\n",
    "        stemmer = WordNetLemmatizer()\n",
    "        word_tokens = word_tokenize(text)\n",
    "        for w in word_tokens:\n",
    "            if w not in stop_words:\n",
    "                w = stemmer.lemmatize(w)\n",
    "                filtered.append(w)\n",
    "        filtered_doc = ' '.join(str(i) for i in filtered)\n",
    "        return filtered_doc\n",
    "    \n",
    "    def lemmatizer(text):\n",
    "        nlp = spacy.load('en_core_web_sm')\n",
    "        sent = []\n",
    "        doc = nlp(text)\n",
    "        for word in doc:\n",
    "            sent.append(word.lemma_)\n",
    "        return \" \".join(sent)"
   ]
  },
  {
   "cell_type": "code",
   "execution_count": 17,
   "id": "628dc8dd",
   "metadata": {},
   "outputs": [],
   "source": [
    "df['Transcript'] = df['Transcript'].apply(lambda x : DataCleaners.clean_text(str(x)))"
   ]
  },
  {
   "cell_type": "code",
   "execution_count": 18,
   "id": "f598a953",
   "metadata": {},
   "outputs": [],
   "source": [
    "df['Transcript'] = df['Transcript'].apply(lambda x : DataCleaners.remove_stopwords(str(x)))"
   ]
  },
  {
   "cell_type": "code",
   "execution_count": 19,
   "id": "f0c82b5b",
   "metadata": {},
   "outputs": [],
   "source": [
    "df['Transcript'] = df['Transcript'].apply(lambda x : DataCleaners.lemmatizer(str(x)))"
   ]
  },
  {
   "cell_type": "code",
   "execution_count": 20,
   "id": "46d7c5a2",
   "metadata": {},
   "outputs": [
    {
     "data": {
      "text/plain": [
       "'may first convey president congratulation albanian delegation election presidency twenty fifth session take work agenda twenty fifth session hold eve twenty fifth anniversary come force peace love member state would wish position present occasion picture positive satisfactory activity part albanian delegation part would taken great pleasure drawing balance sheet activity cover quarter century certainly short period life unfortunately situation create day victory achieve power rome berlintokyo axis conceive spirit principle predominate war antifascist coalition awaken whole progressive humanity hope would serve important factor create well condition order favor cause freedom peace world security activity number event occur world arena period disappoint hope people far contribute require fundamental provision consolidation peace security liberation struggle people contrary diktat imperialist power state america foremost among embark path diametrically oppose principle serve instrument favor policy pillage oppression aggression peace love people country utilization serve policy result able stay hand commit aggression many part world frequently help aggressor activity direction go far moreover flag perpetrate barbarous aggression experience since end second world war among other arm aggression korea congo whole progressive mankind recall admiration heroic struggle direction great stalin soviet union wage cooperation angloamerican coalition defend peaceful people country hitlerite germany historic decisive victory red army nazi horde great role play soviet union second world war arouse great enthusiasm among people awaken hope well future follow great interest particular joy unflinching struggle wage leninist soviet union world arena well authentic representative order defend vital interest sustain legitimate struggle liberation imperialist colonialist racist yoke follow usurpation power country khrushchev clique situation change completely struggle soviet union american imperialism ally replace holy alliance soviet union state peace love freedom love people country thus far concerned become center bargaining maneuver underhand manipulation part american imperialist soviet social imperialist design lull vigilance people disguise good policy world hegemony well know consequence particularly damage authority ability play part incumbent upon time negative activity help people realize well nature two imperialist power expect present circumstance manipulate two power particular become obvious initiative proposal american governing circle moscow revisionist connexion disarmament agreement seek impose state field respect conventional armament nuclear armament design solely disarm peace love country ensure nuclear monopoly large possible quantity armament sort order subjugate people enslave world wish divide people become aware ever way break free every imperialist colonialist racist yoke armed struggle trust strength time enjoy solidarity support freedom love people country one undeniable proof embark road violate principle spirit withholding year legitimate right people republic china circumstance bring abnormal situation without precedent constitute severe blow prestige also time affect capacity regard contribution make settlement important problem time none well know give real solution without participation great socialist china million people undoubtedly state affair discourage member state espouse fundamental principle contrary trusting strength possibility encourage development victory liberation struggle waged people continent redouble effort cooperate closely order wage effective battle policy diktat force practice two great imperialist power elsewhere world liberation movement world level imperialist colonialist power present make new stride people react policy oppression domination practice imperialist power aggression plot strengthen struggle independence freedom join rank armed struggle aggressor shown struggle heroic people vietnam lao cambodia country indo china straggle people korea people far east state imperialist ally tool struggle valiant palestinian arab people imperialistzionist aggression struggle people oman dhofar people arabian gulf free colonial yoke resistance people eastern europe domination new imperialist kremlin struggle african people mozambique angola guinea bissau namibia southern rhodesia south africa colonial power settler racist tool struggle people puerto rico free imperialist yoke state well struggle waged people various part world include american people citadel imperialism imperialist power ally suffer defeat defeat powerful blow strike everywhere people struggle national independence freedom sacred inalienable right master destiny panic stricken impetuous growth revolutionary struggle liberation people assail multiple internal external difficulty two call superpower american imperialism soviet social imperialism head reactionary force striving mean power face desperate situation accelerate implementation aggressive warlike plan peace love people country two power period intensify collusion criminal activity use deceit demagogy well various form pressure force armed aggression although split numerous contradiction derive imperialist nature try undermine evict political economic strategic position two superpower common hatred freedom people socialist revolution basis rest cooperation aggressive activity plan plot extend continent conformity counterrevolutionary strategy design divide dominate world glasborough policy pursue uninterruptedly americansoviet collusion take fresh step forward guise peaceful slogan peaceful settlement conflict bring precisely aggression perpetrate direct european asian security fact nothing security imperialist order disarmament internationalism presuppose limited sovereignty exactly subjugation people well slogan plot coordinate position activity regard various problem affect interest mankind whole use slogan hatching plan try impose call peaceful settlement mean try repress liberation struggle waged people conclude treaty fraudulent enslaving try conclude new aggressive pact add pact bloc military base existence exert pressure sort freedom love people country dare resist carrying arm race preparation new war indulge nuclear blackmail fresh act aggression connexion cite simultaneously secret negotiation two power diplomatic channel long meeting representative helsinki later vienna meeting certainly limited question limitation strategic arm socalle rogers plan peaceful settlement middle east problem plan result american soviet plot design stifle legitimate liberation struggle palestinian people arab people origin bloody event take place recently jordan similar nature negotiation state soviet union indo china meeting organize moscow elsewhere representative reactionary regime asia bring peaceful settlement problem settlement believe lead capitulation people vietnam lao cambodia travel high emissary two power asia effort create new aggressive pact accordance brezhnev plan collective security asia nixon plan pit asiatic asiatic plan concert two power design first foremost create circle fire around people republic china category mention enslave sovietczechoslovak treaty well moscowbonn treaty among thing trample foot sovereign right german people democratic republic germany together sovietamerican project call european security relate sphere influence two power europe rearguard activity continent order implement counterrevolutionary plan asia africa elsewhere order bring great anti popular conspiracy american soviet imperialist applying series political economic military measure intensify imperialist american aggression lao new aggression cambodia plot wile design divide arab people country plunge bloody fratricidal conflict repress mean possible include armed force legitimate struggle heroic people palestine similar nature also threat measure take soviet revisionist people eastern european country include military maneuver soviet occupation force czechoslovakia carry last august intimidate people eve second anniversary soviet invasion czechoslovakia thus two power stop nothing realize imperialist plan stifle revolutionary struggle peace love people country establish domination world arrogate role police order decide good time fate humanity however castle air wheel history turn backwards era fate people small country decide great imperialist power go ever imperialist intensify aggressive activity people strengthen struggle people strengthen struggle closely become vast front armed struggle common enemy never people renounce legitimate struggle win back vital right despite temporary vicissitude struggle whole increase strengthen appear ever storm liberation break throughout asia africa elsewhere storm completely annihilate spite underhanded maneuver repression imperialist colonialist domination whatever form may exist recent example good illustration await american imperialist policy intervention war armed aggression perpetrate cambodia last march immediately coup etat plot country face impasse blow mete struggle vietnamese people american aggressor send troop cambodia order implement nixon doctrine design pit indochinese indochinese aggression far lead expect result immediately meet armed resistance people cambodia military solidarity vietnamese laotian brother powerfully support great chinese people well people asia arouse energetic opposition part people throughout world include american people instead stifle liberation struggle vietnamese people aggression cambodia spread throughout indo china fire liberation revolutionary struggle open even wide deep abyss american imperialism finally engulf without hope rescue success gain cambodian people leadership front cambodia preside head state samdech norodom sihanouk liberate large part national territory aggressor lackey solidarity new consolidation unity people cambodia vietnam lao people republic china democratic people republic korea well revolutionary people asia constitute harsh blow american imperialism collaborator lackey american aggression cambodia time proof collusion expense people american imperialism revisionist moscow latter adopt occasion attitude similar american government towards aggression czechoslovakia particular refusal recognize government front cambodia fact maintain normal diplomatic lon nol clique instrument american imperialism support puppet saigon seoul even riffraff chiang kaishek well reaction whole reveal world public opinion trueway camp imperialism reaction event current year cambodia throughout indo china great importance indochinese people fresh proof obstinacy american imperialism carry act aggression extend war also well position decide sincerely yankee invader soviet social imperialist great socialist china represent thus realize armed struggle way become free american aggressor despite intensification effort american imperialist back soviet revisionist valiant people vietnam thwart plan dangerous subterfuge design bring capitulation throughout south vietnam people popular liberation army take arm strike crush blow american aggressor without give moment respite even military camp base da nang ben tre hue outskirt saigon part country vietnamese people armed force brilliant victory tie american imperialist saigon tool battlefield victory show undeniably effort yankee aggressor escape inevitable defeat extend war bring irreparable reversal long revolutionary struggle temper vietnamese people make invincible determine heroic struggle undoubtedly deal ever crush blow american imperialism completely defeat armed struggle national wellbeing people vietnam lao cambodia constantly develop reinforce new stage criminal plot american soviet imperialist hatch order bring call peaceful settlement indo china doom complete failure american imperialism surround defeat front bind beat typical case show ferocity great americansoviet conspiracy method combine diverse mean action part imperialist power order carry policy aggression hegemony tragic serious situation prevail present time near east concerned implement cost common plan sad repute baptize rogers plan design liquidate palestinian question divide arab people legalize reward imperialistisraeli aggression assure imperialist interest area state revisionist soviet union plot put effect criminal collusion design stifle palestinian liberation movement reactionary regime jordan thus try implement near east nixon doctrine aim pit asian asian thus jordanian reaction serve american imperialism zionism use fire sword cannon tank aviation heroic palestinian fighter barbarous mass massacre perpetrate palestinian population amman elsewhere time american imperialism statement nixon laird leader threaten intervene internal affair arab country also threaten intervention sixth fleet thus try always play role policeman oppress people suppress liberation struggle defend clique pocket defend rapacious interest enslave people american imperialism world reaction consider unfair fraternal assistance give syria iraq arab brother struggle cause common cause accord logic right freedom intervene country everywhere utilize tank cannon war fleet oppress exploit people country whereas syria iraq entitle come aid brother wave indignation resentment unleash throughout progressive world quite rightly conscience arab people revolt treachery rule clique jordan world wonder tank bullet use palestinian struggle liberty independence sacred land people continent profoundly indignant raise voice protest american imperialist soviet socio imperialist cry hand palestinian people jordan syria arab country quite clear palestinian obey roger plan know full well american plan base security council resolution november know result bargaining corridor american soviet design inter alia impose elimination palestinian question recognition israel right annex part territory invade follow aggression june plan also design reward zionist aggression guarantee existence state israel take arab territory also conquer aggression also recognize right still bad two superpower want use new ceasefire continue maneuver machination engage past three year order apply tactic used imperialist power israeli aggression aim put ever fulfillment sacred cause arab thus make fait accompli israel new occupation territory arab people never accept statessoviet diktat design bring recapitulation palestinian people arab people reject plot effort state imperialist soviet revisionist vain arab people long experience well know israeli aggressor master never allow two foreign power decide fate whatever machination sharing role one present author criminal plan give plan support arab people know full well proposal state america incite assisted israel unleash aggression three year ago continue provide israel armament encourage pursue aggression provocation design simply serve imperialist interest power area near east great strategic importance rich petroleum deposit well interest israel instrument obvious one could deny without assistance support state israel would never position initiate aggression june even le continue occupy arab territory regard soviet revisionist whatever mask may put arab people know face especially since americanisraeli aggression convince interested penetrating near east mediterranean basin create condition favorable expansion area leader albanian people comrade enver hoxha refer problem statement september elector tirana say among thing final analysis glorious revolutionary arab people wool pull eye false friendship soviet social imperialism take advantage temporary difficulty occupy port sea stifle liberation struggle fascist zionist state imperialist two aggressive imperialist power interested planting root deep near east ensure economic political military base country area want oppress people country lull word demoralize corrupt order finally use base go even invade africa asia region start colonial war plunder various continent albanian people love arab people brother friend good time bad time revolutionary liberation struggle side constantly support continue support mean disposal confidence triumph cause fight order win early victory common enemy unity hard steel must forge among arab people armed struggle zionist state imperialist soviet revisionist seek divide arab people disarm impose peace enemy arm supplied control soviet make available sacred arab cause use precisely deceive arab tie hand send slaughterhouse roger plan ill repute could accurately call rogersgromyko plan arab people certainly never fall terrible trap plan sovietunite state army recourse various insidious mean succeed establish side suez canal case one may wonder purpose hardware supply arab soviet would serve heroically drive one imperialist canal see occupied two other clamor day harmony secret maneuver soviet revisionist crackle heroic gun arab palestinian brother glorious reply put great conspiracy enemy therefore possible mean must resolutely assist partisan struggle palestinian struggle forefront battle must waged arab people front arab brother succeed raise high banner liberation struggle imperialist zionist reduce nothing plan soviet revisionist provocation organize agency cia conspire liberation struggle people palestine arab people arab people great revolutionary tradition know bravery liberation struggle know fight israeli aggressor also two imperialist power mainly responsible situation near east therefore allow fall trap power event recent day jordan confirm leader albanian people comrade enver hoxha indicate statement september soviet social imperialism pursue aim nothing common interest arab people occasion concern fate arab people sole aim consolidate imperialist position particular case soviet revisionist leader reply nixon appeal bring moscow fire brigade snuff revolutionary struggle palestinian arab people subjugate enslave hasten assume role fireman official declaration propaganda organ come defense clique power jordan threaten palestinian slogan violence lead violence address appeal arab people ask give struggle fact serve make even obvious arab people perfidious role play social imperialist moscow real aim statessoviet plan near east palestinian consider jordan second homeland cause disruption jordan rather fault lie reactionary regime jordan king hussein service state imperialism roger plan contrary palestinian jordan healthiest element common struggle annihilate common enemy albanian people profoundly indignant strongly condemn criminal act support heroic struggle palestinian fighting sacred right convinced thank resolute struggle strengthen unity combat enjoy support true friend freedom love people expose plot enemy gain final victory aggressor deal state soviet union important place hold also call question european security conference propose last year kremlin leader instrument aggression warsaw treaty sign intense activity year instigation two power accordance strategy consolidate subsequently extend domination europe carry aggressive plan area state soviet imperialist particularly concern ensure success project soviet revisionist particular show special haste explain internal difficulty ever grow resistance country eastern europe policy intervention domination plan preparation aggression direct towards asia people republic china course state west -PRON- ally particularly federal republic germany fail everything power exploit haste display soviet revisionist leadership order obtain large possible number concession german problem west berlin well ensure economic political cultural penetration country eastern europe confront insurmountable difficulty relate contradiction exist many problem state imperialist soviet social imperialist well european state two call superpower order find way mislead public opinion hit follow formula serve guide principle agreement conclude framework renunciation use force among state europe misleading formula design fact give something cle conclude agreement basis formula negotiation take place federal republic germany german democratic republic poland well long negotiation paramount importance soviet union west germany activity step great impact sovietwest german treaty sign august last moscow intense propaganda attend sign treaty design present historic event would say bring peace europe integrity border course campaign regardless mean use could deceive naive people europe great experience take empty rhetoric particular propaganda statement soviet american leader supporter fail recall vast deceitful campaign accompany various stage plot compromise western power hitlerian militarism especially regard munich agreement september moscow treaty fact solution german problem indeed open violation decision problem adopt allied power war oft renew promise soviet revisionist leadership conclude peace treaty two german state simply german democratic republic defend interest sovereign right latter soviet revisionist trampled foot commitment obligation thus commit serious crime german people german democratic republic peace security europe entire world therefore assume heavy responsibility moscow treaty fact formal recognition entry conquer germany community state without sign peace treaty sovietgerman treaty apart equivocal questionable term reference recognition border two german state oderneisse line divide poland german democratic republic final unchangeable border recognition federal republic germany german democratic republic independent sovereign state fully enjoy right even important chancellor west germany leader bonn state one occasion sign treaty never give idea reunification german mean annexation german democratic republic position confirm document annexed treaty bonn government thus endeavor make situation gain time order prepare attain expansionist objective favorable circumstance thus soviet revisionist consider use german democratic republic bargaining counter dealing revengeseekers bonn still claim right speak act behalf germany support great western power provision treaty concern renunciation use force inviolability border mean border fact unchangeable people europe know full well value commitment part german revenge seeker memory hitler nonaggression pact european state still fresh mind therefore point view moscow treaty undeniably provide bonn leader something fall back encourage expansionist revenge seek plan time serious blow german democratic republic progressive peace loving force germany one deny creation german democratic republic great victory german people people europe closely connected peace security europe strengthen german democratic republic recognition state europe basis principle sovereign equality interest security essential condition settlement german problem sound basis sincere attempt place german people road peace democracy cooperation friendship european people agreement soviet union west germany dangerous step opposite direction fail condemn peace freedom love country people europe obvious moscow treaty first foremost result bargaining state soviet imperialist within framework plan strategy europe continent treaty time agreement two new imperialist power soviet social imperialism west german militarism serious threat european continent also area world object statessoviet plan aggression thus leader moscow join successive government washington raise west germany level main shock force principal partner two power put effect counterrevolutionary plan plan subjugate freedom love people country fail occasion remind similar plan part policy western power toward hitler germany prove costly hitler germany eventually turn moscowbonn treaty undeniably new link series plot soviet american world people serious threat entail escape attention government sincerely concern vital interest people national security independence world peace albanian government always sympathy justified concern european state sincerely interested security peace europe search appropriate way mean normalize situation continent deliver hegemony two major imperialist power reject idea sphere influence eliminate two aggressive bloc dominate create favorable circumstance development european cooperation basis respect independence national sovereignty sovereign equality mutual benefit fully line principle underlie foreign policy state know full well noble objective nothing common criminal plan state soviet imperialist supporter activity pact propose conclude initiative proposal include european security collective security asia security present initiative soviet revisionist present session two power constantly motivate insatiable greed dominate exploit people world desire maintain consolidate sphere influence europe elsewhere free hand area ensure tranquility rear better carry various expansionist plan asia africa elsewhere use whatever mean necessary even extent threaten use armed force really need prove true state affair amply bear reality hotbe imperialist war many area world aggression indo china middle east far east europe elsewhere military base state soviet imperialist europe continent occupation foreign territory nuclear blackmail arm race fleet warship v hich cruise mediterranean pacific sea ocean threaten peace love people country area bear inter alia criminal plan europe particular role assign revenge seek germany plan asia aim particularly encirclement people republic china preparation war country cooperation aggressive power particular japanese militarism one claim guarantee peace europe condition aegis protection two imperialist power american soviet one wonder peace guarantee threaten peace security people europe u small peace love country opinion catch sovietamerican trap european security collective security asia tantamount serve aggressive plan rather throw oneself wolf today ever peace indivisible peace europe war asia elsewhere comrade enver hoxha statement occasion twenty fifth anniversary liberation albania state connexion first question assure european security seek soviet revisionist support state imperialist mean security sphere influence europe security military base right squadron patrol european coast mean people europe must legally officially recognize right moscow washington conserve special privilege imperialist colonialist nature various country europe security boil permanent maintenance europe status quo soviet american domination calm ensure continent soviet revisionist american imperialist freedom movement act freely asia africa everywhere else order subjugate enslave people reinforce capitalistic system exploitation home empire believe peace security assure resolute opposition struggle two imperialist power policy diktat aggression war way would grist mill two power envisage enslavement europe world convince matter effort make american soviet imperialist collaborator never tranquility seek europe run contradiction people europe accept hegemony guise never allow pit europe asia never allow cannon fodder realization criminal plan two power well aware peace love member state condemn aggressive policy two imperialist power collusion expense cause peace love people country monstrous plan redivide dominate world constantly admire courageous struggle wage many country outside grand conspiracy two power present situation require member state faithful principle independence equality state great small respect sovereignty territorial integrity intensify struggle still unite effort americansoviet imperialism collusion desire impose diktat high interest peace security seriously threaten aggressive policy american soviet coalition require lofty interest people fight imperialism colonialism reaction many state fight unceasingly away unprecedented anomaly exist result violation lawful right people republic china usurpation place clique renegade service american imperialism nevertheless scandalous intolerable situation continue today hostile aggressive policy state great socialist china manipulation session albania fourteen country place agenda question restore lawful right people republic china add do flagrant gross violation affect sovereign right found member state permanent member security council also elimination abnormal unprecedented situation urgent necessity desire take step towards recovery put position accomplish task quite clear without people republic china give authority great role tremendous potential position make effective contribution settlement important problem time people republic china great powerful socialist state tremendous success area enjoy incomparable prestige authority dazzle victory great proletarian cultural revolution thwart plot imperialist revisionist take control inside chinese citadel live testimony invincible force great chinese people guarantee great role powerful socialist china undeniably play destiny people world people republic china become today great impregnable fortress liberation struggle people imperialism colonialism reaction unshakable rampart progressive mankind consider position take question prove determination reject diktat two great imperialist power seek lo exercise embark course conformity aspiration people fundamental provision express hope government peace love state constitute xnajority aware serious situation courage adopt attitude dictate conviction true interest country people republic albania constantly pursue independent revolutionary foreign policy accordance high interest building defense socialist homeland well great cause people fight freedom independence sacre right freely determine future albanian people able defend socialist homeland every circumstance plot threat provocation imperialist revisionist ever watchful prepared moment respond anyone dare raise hand albanian people party government support continue strongly support legitimate struggle peace love people country aggressive policy two imperialist power colonialist collaborator lackey kind always stand shall always stand brother people vietnam lao cambodia people indo china asia heroic struggle american aggressor ally kind support shall continue unreservedly support legitimate fight fraternal arab people zionist aggressor american soviet imperialist mainly responsible present situation middle east vigorously support struggle people european country people czechoslovakia german democratic republic people continent well people continent policy domination oppression exploitation two imperialist power counterrevolutionary holy alliance firmly convince people entire world fighting cause vast anti imperialist anti colonialist front ever resolute combat solidarity put plot aggressive plan aggression matter may responsible win final victory common enemy delegation people republic albania session guide marxistleninist principle socialist state continue past together freedom love people make modest contribution cause freedom independence genuine cooperation friendship among people th world'"
      ]
     },
     "execution_count": 20,
     "metadata": {},
     "output_type": "execute_result"
    }
   ],
   "source": [
    "df['Transcript'][0]"
   ]
  },
  {
   "cell_type": "code",
   "execution_count": 21,
   "id": "f9b81887",
   "metadata": {},
   "outputs": [
    {
     "name": "stdout",
     "output_type": "stream",
     "text": [
      "<class 'pandas.core.frame.DataFrame'>\n",
      "RangeIndex: 8094 entries, 0 to 8093\n",
      "Data columns (total 5 columns):\n",
      " #   Column      Non-Null Count  Dtype \n",
      "---  ------      --------------  ----- \n",
      " 0   Unnamed: 0  8094 non-null   int64 \n",
      " 1   Year        8094 non-null   object\n",
      " 2   Session     8094 non-null   object\n",
      " 3   Country     8094 non-null   object\n",
      " 4   Transcript  8094 non-null   object\n",
      "dtypes: int64(1), object(4)\n",
      "memory usage: 316.3+ KB\n"
     ]
    }
   ],
   "source": [
    "df.info()"
   ]
  },
  {
   "cell_type": "code",
   "execution_count": 22,
   "id": "d27d5a62",
   "metadata": {},
   "outputs": [],
   "source": [
    "df.to_csv('C:/Users/david/Documents/0_kul/1_ma_stds_1/0_mda/project/data/transcript_preprocessed_compact.csv',encoding='utf-8')"
   ]
  }
 ],
 "metadata": {
  "kernelspec": {
   "display_name": "Python 3",
   "language": "python",
   "name": "python3"
  },
  "language_info": {
   "codemirror_mode": {
    "name": "ipython",
    "version": 3
   },
   "file_extension": ".py",
   "mimetype": "text/x-python",
   "name": "python",
   "nbconvert_exporter": "python",
   "pygments_lexer": "ipython3",
   "version": "3.9.2"
  }
 },
 "nbformat": 4,
 "nbformat_minor": 5
}
