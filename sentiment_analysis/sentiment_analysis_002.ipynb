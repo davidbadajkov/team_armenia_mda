{
 "cells": [
  {
   "cell_type": "code",
   "execution_count": 1,
   "id": "fdb165e9",
   "metadata": {},
   "outputs": [],
   "source": [
    "import pandas as pd\n",
    "from textblob import TextBlob\n",
    "import numpy as np\n",
    "import nltk\n",
    "from nltk.sentiment.vader import SentimentIntensityAnalyzer\n",
    "import matplotlib.pyplot as plt"
   ]
  },
  {
   "cell_type": "markdown",
   "id": "3662682e",
   "metadata": {},
   "source": [
    "<h2> 1. Loading the dataframe</h2>\n",
    "that was consolidated in a previous notebook "
   ]
  },
  {
   "cell_type": "code",
   "execution_count": 2,
   "id": "c48d6e4d",
   "metadata": {},
   "outputs": [
    {
     "name": "stdout",
     "output_type": "stream",
     "text": [
      "<class 'pandas.core.frame.DataFrame'>\n",
      "RangeIndex: 8102 entries, 0 to 8101\n",
      "Data columns (total 4 columns):\n",
      " #   Column      Non-Null Count  Dtype \n",
      "---  ------      --------------  ----- \n",
      " 0   Year        8094 non-null   object\n",
      " 1   Session     8094 non-null   object\n",
      " 2   Country     8094 non-null   object\n",
      " 3   Transcript  8093 non-null   object\n",
      "dtypes: object(4)\n",
      "memory usage: 253.3+ KB\n",
      "None\n"
     ]
    }
   ],
   "source": [
    "transcript = pd.read_csv(\"C:/Users/david/Documents/0_kul/1_ma_stds_1/0_mda/project/data/1405transcript_preprocessed_compact.csv\")\n",
    "df = transcript\n",
    "df.shape\n",
    "print(df.info())"
   ]
  },
  {
   "cell_type": "code",
   "execution_count": 3,
   "id": "9af3c41a",
   "metadata": {},
   "outputs": [
    {
     "name": "stdout",
     "output_type": "stream",
     "text": [
      "      Year Session Country                                         Transcript  \\\n",
      "4890  1997      52     COG  ﻿i wish congratulate president hisbrilliant el...   \n",
      "4837  1997      52     MNG  ﻿it give mepleasure congratulate excellency mr...   \n",
      "3196  1987      42     BEN  ﻿it give great pleasure true joy sir assume pr...   \n",
      "3360  2001      56     NGA  ﻿recent event havemanifestly bring fore import...   \n",
      "5323  1976      31     POL  mr president allow congratulate election high ...   \n",
      "\n",
      "      index  \n",
      "4890   4890  \n",
      "4837   4837  \n",
      "3196   3196  \n",
      "3360   3360  \n",
      "5323   5323  \n"
     ]
    }
   ],
   "source": [
    "df['index'] = df.index\n",
    "print(df.sample(5))"
   ]
  },
  {
   "cell_type": "markdown",
   "id": "1d3c067a",
   "metadata": {},
   "source": [
    "<h2> 2. Extracting polarity level </h2>\n",
    "We will extract the polarity level for each speech using Textblob"
   ]
  },
  {
   "cell_type": "code",
   "execution_count": 4,
   "id": "b73565ea",
   "metadata": {},
   "outputs": [],
   "source": [
    "# creating empty lists\n",
    "polarity = []\n",
    "subjectivity = []\n",
    "index = []"
   ]
  },
  {
   "cell_type": "code",
   "execution_count": 5,
   "id": "9566a3f9",
   "metadata": {},
   "outputs": [],
   "source": [
    "# calculating the polarity and subjectivity level of each transcript\n",
    "for i in range(len(df)):\n",
    "    blob_polarity = TextBlob(str(df.Transcript.values[i])).sentiment[0]\n",
    "    blob_subjectivity = TextBlob(str(df.Transcript.values[i])).sentiment[1]\n",
    "    polarity.append(blob_polarity)\n",
    "    subjectivity.append(blob_subjectivity)\n",
    "    index.append(i)"
   ]
  },
  {
   "cell_type": "code",
   "execution_count": 6,
   "id": "69a947d7",
   "metadata": {},
   "outputs": [],
   "source": [
    "mydict = {\n",
    "    'polarity' : polarity,\n",
    "    'subjectivity' : subjectivity,\n",
    "    'index' : index\n",
    "}"
   ]
  },
  {
   "cell_type": "code",
   "execution_count": 7,
   "id": "35c3b478",
   "metadata": {},
   "outputs": [
    {
     "name": "stdout",
     "output_type": "stream",
     "text": [
      "      Year Session Country                                         Transcript  \\\n",
      "7106  1988      43     DOM  ﻿on behalf government dominican republic alleg...   \n",
      "6553  2012      67     ROU  ﻿thecurrent session give u acomplete picture t...   \n",
      "6083  1975      30     BWA  delegation take place rostrum rather late day ...   \n",
      "\n",
      "      index  polarity  subjectivity  \n",
      "7106   7106  0.120945      0.422492  \n",
      "6553   6553  0.098008      0.405647  \n",
      "6083   6083  0.060235      0.331232  \n"
     ]
    }
   ],
   "source": [
    "scores_textblob = pd.DataFrame(mydict)\n",
    "df_sentiment = df.merge(scores_textblob,on='index')\n",
    "print(df_sentiment.sample(3))"
   ]
  },
  {
   "cell_type": "markdown",
   "id": "548e63b2",
   "metadata": {},
   "source": [
    "<h2> 3. Extracting polarity level </h2>\n",
    "We will extract the polarity level for each speech using Vader lexicon"
   ]
  },
  {
   "cell_type": "code",
   "execution_count": 8,
   "id": "2bc37183",
   "metadata": {},
   "outputs": [],
   "source": [
    "# Instantiate the sentiment intensity analyzer with the existing lexicon\n",
    "vader = SentimentIntensityAnalyzer()"
   ]
  },
  {
   "cell_type": "code",
   "execution_count": 9,
   "id": "49739ac5",
   "metadata": {},
   "outputs": [],
   "source": [
    "list_score = []\n",
    "list_index = []\n",
    "for i in range(0,len(df)):\n",
    "    score = vader.polarity_scores(str(df.Transcript[i]))\n",
    "    index = i\n",
    "    list_score.append(score)\n",
    "    list_index.append(index)"
   ]
  },
  {
   "cell_type": "code",
   "execution_count": 10,
   "id": "2a5273bf",
   "metadata": {},
   "outputs": [],
   "source": [
    "# Convert the list of dicts into a DataFrame\n",
    "scores_vader = pd.DataFrame(list_score)\n",
    "scores_vader['index'] = list_index"
   ]
  },
  {
   "cell_type": "code",
   "execution_count": 11,
   "id": "0fb875a1",
   "metadata": {},
   "outputs": [
    {
     "data": {
      "text/html": [
       "<div>\n",
       "<style scoped>\n",
       "    .dataframe tbody tr th:only-of-type {\n",
       "        vertical-align: middle;\n",
       "    }\n",
       "\n",
       "    .dataframe tbody tr th {\n",
       "        vertical-align: top;\n",
       "    }\n",
       "\n",
       "    .dataframe thead th {\n",
       "        text-align: right;\n",
       "    }\n",
       "</style>\n",
       "<table border=\"1\" class=\"dataframe\">\n",
       "  <thead>\n",
       "    <tr style=\"text-align: right;\">\n",
       "      <th></th>\n",
       "      <th>neg</th>\n",
       "      <th>neu</th>\n",
       "      <th>pos</th>\n",
       "      <th>compound</th>\n",
       "      <th>index</th>\n",
       "    </tr>\n",
       "  </thead>\n",
       "  <tbody>\n",
       "    <tr>\n",
       "      <th>3410</th>\n",
       "      <td>0.090</td>\n",
       "      <td>0.643</td>\n",
       "      <td>0.267</td>\n",
       "      <td>0.9998</td>\n",
       "      <td>3410</td>\n",
       "    </tr>\n",
       "    <tr>\n",
       "      <th>5397</th>\n",
       "      <td>0.147</td>\n",
       "      <td>0.622</td>\n",
       "      <td>0.230</td>\n",
       "      <td>0.9993</td>\n",
       "      <td>5397</td>\n",
       "    </tr>\n",
       "    <tr>\n",
       "      <th>3805</th>\n",
       "      <td>0.162</td>\n",
       "      <td>0.627</td>\n",
       "      <td>0.211</td>\n",
       "      <td>0.9955</td>\n",
       "      <td>3805</td>\n",
       "    </tr>\n",
       "  </tbody>\n",
       "</table>\n",
       "</div>"
      ],
      "text/plain": [
       "        neg    neu    pos  compound  index\n",
       "3410  0.090  0.643  0.267    0.9998   3410\n",
       "5397  0.147  0.622  0.230    0.9993   5397\n",
       "3805  0.162  0.627  0.211    0.9955   3805"
      ]
     },
     "execution_count": 11,
     "metadata": {},
     "output_type": "execute_result"
    }
   ],
   "source": [
    "scores_vader.sample(3)"
   ]
  },
  {
   "cell_type": "markdown",
   "id": "695ab348",
   "metadata": {},
   "source": [
    "<h2> 4. Merge all together and save the document as CSV </h2>"
   ]
  },
  {
   "cell_type": "code",
   "execution_count": 12,
   "id": "6883b60c",
   "metadata": {},
   "outputs": [],
   "source": [
    "# Join the DataFrames\n",
    "sentiment_df = df_sentiment.merge(scores_vader,on='index')"
   ]
  },
  {
   "cell_type": "code",
   "execution_count": 13,
   "id": "a321075d",
   "metadata": {},
   "outputs": [
    {
     "data": {
      "text/plain": [
       "(8102, 11)"
      ]
     },
     "execution_count": 13,
     "metadata": {},
     "output_type": "execute_result"
    }
   ],
   "source": [
    "sentiment_df.shape"
   ]
  },
  {
   "cell_type": "code",
   "execution_count": 14,
   "id": "b17fcbe2",
   "metadata": {},
   "outputs": [
    {
     "data": {
      "text/html": [
       "<div>\n",
       "<style scoped>\n",
       "    .dataframe tbody tr th:only-of-type {\n",
       "        vertical-align: middle;\n",
       "    }\n",
       "\n",
       "    .dataframe tbody tr th {\n",
       "        vertical-align: top;\n",
       "    }\n",
       "\n",
       "    .dataframe thead th {\n",
       "        text-align: right;\n",
       "    }\n",
       "</style>\n",
       "<table border=\"1\" class=\"dataframe\">\n",
       "  <thead>\n",
       "    <tr style=\"text-align: right;\">\n",
       "      <th></th>\n",
       "      <th>Year</th>\n",
       "      <th>Session</th>\n",
       "      <th>Country</th>\n",
       "      <th>Transcript</th>\n",
       "      <th>index</th>\n",
       "      <th>polarity</th>\n",
       "      <th>subjectivity</th>\n",
       "      <th>neg</th>\n",
       "      <th>neu</th>\n",
       "      <th>pos</th>\n",
       "      <th>compound</th>\n",
       "    </tr>\n",
       "  </thead>\n",
       "  <tbody>\n",
       "    <tr>\n",
       "      <th>2377</th>\n",
       "      <td>1993</td>\n",
       "      <td>48</td>\n",
       "      <td>CRI</td>\n",
       "      <td>four year since end thecold war fall old ideol...</td>\n",
       "      <td>2377</td>\n",
       "      <td>0.075891</td>\n",
       "      <td>0.421442</td>\n",
       "      <td>0.122</td>\n",
       "      <td>0.639</td>\n",
       "      <td>0.239</td>\n",
       "      <td>0.9997</td>\n",
       "    </tr>\n",
       "    <tr>\n",
       "      <th>6125</th>\n",
       "      <td>1975</td>\n",
       "      <td>30</td>\n",
       "      <td>HND</td>\n",
       "      <td>begin thirtieth session like convey president ...</td>\n",
       "      <td>6125</td>\n",
       "      <td>0.141787</td>\n",
       "      <td>0.466013</td>\n",
       "      <td>0.109</td>\n",
       "      <td>0.601</td>\n",
       "      <td>0.290</td>\n",
       "      <td>0.9998</td>\n",
       "    </tr>\n",
       "    <tr>\n",
       "      <th>1135</th>\n",
       "      <td>2015</td>\n",
       "      <td>70</td>\n",
       "      <td>SVN</td>\n",
       "      <td>historic junction turn next month occasion opp...</td>\n",
       "      <td>1135</td>\n",
       "      <td>0.135677</td>\n",
       "      <td>0.457980</td>\n",
       "      <td>0.101</td>\n",
       "      <td>0.574</td>\n",
       "      <td>0.325</td>\n",
       "      <td>0.9996</td>\n",
       "    </tr>\n",
       "    <tr>\n",
       "      <th>6969</th>\n",
       "      <td>1991</td>\n",
       "      <td>46</td>\n",
       "      <td>TUN</td>\n",
       "      <td>﻿it give pleasure express behalf country behal...</td>\n",
       "      <td>6969</td>\n",
       "      <td>0.117417</td>\n",
       "      <td>0.459235</td>\n",
       "      <td>0.091</td>\n",
       "      <td>0.577</td>\n",
       "      <td>0.332</td>\n",
       "      <td>1.0000</td>\n",
       "    </tr>\n",
       "    <tr>\n",
       "      <th>4144</th>\n",
       "      <td>2017</td>\n",
       "      <td>72</td>\n",
       "      <td>TTO</td>\n",
       "      <td>community gather together reaffirm possibility...</td>\n",
       "      <td>4144</td>\n",
       "      <td>0.121454</td>\n",
       "      <td>0.452211</td>\n",
       "      <td>0.086</td>\n",
       "      <td>0.667</td>\n",
       "      <td>0.247</td>\n",
       "      <td>0.9996</td>\n",
       "    </tr>\n",
       "    <tr>\n",
       "      <th>397</th>\n",
       "      <td>1995</td>\n",
       "      <td>50</td>\n",
       "      <td>DNK</td>\n",
       "      <td>sad irony whilewe celebrate fiftieth anniversa...</td>\n",
       "      <td>397</td>\n",
       "      <td>0.089105</td>\n",
       "      <td>0.376644</td>\n",
       "      <td>0.105</td>\n",
       "      <td>0.672</td>\n",
       "      <td>0.223</td>\n",
       "      <td>0.9989</td>\n",
       "    </tr>\n",
       "    <tr>\n",
       "      <th>3858</th>\n",
       "      <td>2002</td>\n",
       "      <td>57</td>\n",
       "      <td>IRN</td>\n",
       "      <td>﻿iwould like outset congratulate mr jan kavano...</td>\n",
       "      <td>3858</td>\n",
       "      <td>0.103958</td>\n",
       "      <td>0.447514</td>\n",
       "      <td>0.187</td>\n",
       "      <td>0.625</td>\n",
       "      <td>0.189</td>\n",
       "      <td>-0.9672</td>\n",
       "    </tr>\n",
       "  </tbody>\n",
       "</table>\n",
       "</div>"
      ],
      "text/plain": [
       "      Year Session Country                                         Transcript  \\\n",
       "2377  1993      48     CRI  four year since end thecold war fall old ideol...   \n",
       "6125  1975      30     HND  begin thirtieth session like convey president ...   \n",
       "1135  2015      70     SVN  historic junction turn next month occasion opp...   \n",
       "6969  1991      46     TUN  ﻿it give pleasure express behalf country behal...   \n",
       "4144  2017      72     TTO  community gather together reaffirm possibility...   \n",
       "397   1995      50     DNK  sad irony whilewe celebrate fiftieth anniversa...   \n",
       "3858  2002      57     IRN  ﻿iwould like outset congratulate mr jan kavano...   \n",
       "\n",
       "      index  polarity  subjectivity    neg    neu    pos  compound  \n",
       "2377   2377  0.075891      0.421442  0.122  0.639  0.239    0.9997  \n",
       "6125   6125  0.141787      0.466013  0.109  0.601  0.290    0.9998  \n",
       "1135   1135  0.135677      0.457980  0.101  0.574  0.325    0.9996  \n",
       "6969   6969  0.117417      0.459235  0.091  0.577  0.332    1.0000  \n",
       "4144   4144  0.121454      0.452211  0.086  0.667  0.247    0.9996  \n",
       "397     397  0.089105      0.376644  0.105  0.672  0.223    0.9989  \n",
       "3858   3858  0.103958      0.447514  0.187  0.625  0.189   -0.9672  "
      ]
     },
     "execution_count": 14,
     "metadata": {},
     "output_type": "execute_result"
    }
   ],
   "source": [
    "sentiment_df.sample(7)"
   ]
  },
  {
   "cell_type": "code",
   "execution_count": 15,
   "id": "e64c6344",
   "metadata": {},
   "outputs": [],
   "source": [
    "sentiment_df.to_csv('sentiment_df.csv',index=False)"
   ]
  },
  {
   "cell_type": "markdown",
   "id": "72f6aaba",
   "metadata": {},
   "source": [
    "<h2> 4. Plot sentiment </h2>"
   ]
  },
  {
   "cell_type": "markdown",
   "id": "d4fdd1c7",
   "metadata": {},
   "source": [
    "Vader sentiment"
   ]
  },
  {
   "cell_type": "code",
   "execution_count": 16,
   "id": "371c8b08",
   "metadata": {},
   "outputs": [],
   "source": [
    "y = sentiment_df.groupby(\"Year\")[\"pos\"].mean()\n",
    "x = y.index"
   ]
  },
  {
   "cell_type": "code",
   "execution_count": 17,
   "id": "dff98bbc",
   "metadata": {},
   "outputs": [
    {
     "data": {
      "text/plain": [
       "50"
      ]
     },
     "execution_count": 17,
     "metadata": {},
     "output_type": "execute_result"
    }
   ],
   "source": [
    "len(x)"
   ]
  },
  {
   "cell_type": "code",
   "execution_count": 18,
   "id": "e64f2fe0",
   "metadata": {},
   "outputs": [
    {
     "data": {
      "image/png": "[encoded data removed]",
      "text/plain": [
       "<Figure size 432x288 with 1 Axes>"
      ]
     },
     "metadata": {
      "needs_background": "light"
     },
     "output_type": "display_data"
    }
   ],
   "source": [
    "plt.scatter(x,y)\n",
    "plt.show()"
   ]
  },
  {
   "cell_type": "markdown",
   "id": "2ffd7ecb",
   "metadata": {},
   "source": [
    "Textblob sentiment"
   ]
  },
  {
   "cell_type": "code",
   "execution_count": 19,
   "id": "04dc8e75",
   "metadata": {},
   "outputs": [],
   "source": [
    "y_polarity = sentiment_df.groupby('Year')['polarity'].mean()"
   ]
  },
  {
   "cell_type": "code",
   "execution_count": 20,
   "id": "d0d6b7d7",
   "metadata": {},
   "outputs": [],
   "source": [
    "x_polarity = y_polarity.index"
   ]
  },
  {
   "cell_type": "code",
   "execution_count": 21,
   "id": "004b73aa",
   "metadata": {},
   "outputs": [
    {
     "data": {
      "image/png": "[encoded data removed]",
      "text/plain": [
       "<Figure size 432x288 with 1 Axes>"
      ]
     },
     "metadata": {
      "needs_background": "light"
     },
     "output_type": "display_data"
    }
   ],
   "source": [
    "plt.scatter(x_polarity,y_polarity)\n",
    "plt.show()"
   ]
  },
  {
   "cell_type": "markdown",
   "id": "58b1c744",
   "metadata": {},
   "source": [
    "<h2> 5. polarity mean by country </h2>"
   ]
  },
  {
   "cell_type": "code",
   "execution_count": 22,
   "id": "334397b0",
   "metadata": {},
   "outputs": [],
   "source": [
    "mean_country = sentiment_df.groupby(\"Country\").mean()"
   ]
  },
  {
   "cell_type": "code",
   "execution_count": 23,
   "id": "ff52074e",
   "metadata": {},
   "outputs": [],
   "source": [
    "sorted_mean_country = mean_country.sort_values(by=['pos'],ascending=True)"
   ]
  },
  {
   "cell_type": "code",
   "execution_count": 24,
   "id": "1bae6c60",
   "metadata": {},
   "outputs": [
    {
     "name": "stdout",
     "output_type": "stream",
     "text": [
      "               index  polarity  subjectivity       neg       neu       pos  \\\n",
      "Country                                                                      \n",
      ".DS      7859.000000  0.000000      0.000000  0.000000  1.000000  0.000000   \n",
      "CUB      4046.265306  0.052403      0.425829  0.177224  0.630510  0.192184   \n",
      "ATG      4177.342857  0.071141      0.435727  0.144343  0.652686  0.202943   \n",
      "LCA      4005.257143  0.085255      0.433852  0.123943  0.666429  0.209686   \n",
      "LBY      4012.510638  0.082890      0.413252  0.164319  0.620277  0.215383   \n",
      "SGP      4107.854167  0.079313      0.453058  0.139375  0.644875  0.215604   \n",
      "DMA      4128.531250  0.094932      0.435216  0.124937  0.656313  0.218875   \n",
      "RUS      4026.000000  0.076331      0.442617  0.138396  0.641646  0.220000   \n",
      "SYR      4030.938776  0.071830      0.434242  0.172939  0.606367  0.220673   \n",
      "IRQ      4044.510204  0.086674      0.421188  0.148776  0.630449  0.220714   \n",
      "\n",
      "         compound  \n",
      "Country            \n",
      ".DS      0.000000  \n",
      "CUB      0.149882  \n",
      "ATG      0.723211  \n",
      "LCA      0.884103  \n",
      "LBY      0.536279  \n",
      "SGP      0.629242  \n",
      "DMA      0.719481  \n",
      "RUS      0.810073  \n",
      "SYR      0.473259  \n",
      "IRQ      0.738484  \n"
     ]
    }
   ],
   "source": [
    "print(sorted_mean_country.head(10))"
   ]
  },
  {
   "cell_type": "code",
   "execution_count": 25,
   "id": "179e8668",
   "metadata": {},
   "outputs": [],
   "source": [
    "sorted_mean_country = mean_country.sort_values(by=['polarity'],ascending=True)"
   ]
  },
  {
   "cell_type": "code",
   "execution_count": 26,
   "id": "a4af5f43",
   "metadata": {},
   "outputs": [
    {
     "name": "stdout",
     "output_type": "stream",
     "text": [
      "               index  polarity  subjectivity       neg       neu       pos  \\\n",
      "Country                                                                      \n",
      ".DS      7859.000000  0.000000      0.000000  0.000000  1.000000  0.000000   \n",
      "CUB      4046.265306  0.052403      0.425829  0.177224  0.630510  0.192184   \n",
      "ERI      3944.730769  0.059796      0.442767  0.146808  0.617692  0.235654   \n",
      "IRN      4044.551020  0.066717      0.428916  0.166265  0.600000  0.233612   \n",
      "ATG      4177.342857  0.071141      0.435727  0.144343  0.652686  0.202943   \n",
      "EU       3808.625000  0.071226      0.411437  0.164625  0.576375  0.259000   \n",
      "SYR      4030.938776  0.071830      0.434242  0.172939  0.606367  0.220673   \n",
      "ISR      4046.306122  0.073455      0.431697  0.167102  0.606551  0.226408   \n",
      "RUS      4026.000000  0.076331      0.442617  0.138396  0.641646  0.220000   \n",
      "BIH      4086.222222  0.077912      0.443135  0.143296  0.613593  0.243296   \n",
      "\n",
      "         compound  \n",
      "Country            \n",
      ".DS      0.000000  \n",
      "CUB      0.149882  \n",
      "ERI      0.746373  \n",
      "IRN      0.518512  \n",
      "ATG      0.723211  \n",
      "EU       0.665837  \n",
      "SYR      0.473259  \n",
      "ISR      0.505984  \n",
      "RUS      0.810073  \n",
      "BIH      0.720900  \n"
     ]
    }
   ],
   "source": [
    "print(sorted_mean_country.head(10))"
   ]
  }
 ],
 "metadata": {
  "kernelspec": {
   "display_name": "Python 3",
   "language": "python",
   "name": "python3"
  },
  "language_info": {
   "codemirror_mode": {
    "name": "ipython",
    "version": 3
   },
   "file_extension": ".py",
   "mimetype": "text/x-python",
   "name": "python",
   "nbconvert_exporter": "python",
   "pygments_lexer": "ipython3",
   "version": "3.7.10"
  }
 },
 "nbformat": 4,
 "nbformat_minor": 5
}
