{
 "cells": [
  {
   "cell_type": "markdown",
   "id": "575cdbca",
   "metadata": {},
   "source": [
    "<h1> Sentiment analysis </h1> (also called opinion mining)\n",
    "<p> Sentiment analysis is the process of understanding the opinion of an author about a subject </p>\n",
    "There exist 3 important elements:\n",
    "<ul> <li> 1) opinion/emotion:\n",
    "    <b> opinion </b> positive, negative or neutral. (this is also called polarity)\n",
    "    <b> emotion</b> can be joy, surprise, anger,disgust, ... </li>\n",
    "    <li> 2) the subject talked about </li>\n",
    "    <li> 3) Opinion holder (entity). Who expresses the opinion/emotion </li> </ul>\n",
    "   <p> <b> Reminder: A machine learning method does not work with text data directly. The solution: transform the text data into numeric form. </b></p>"
   ]
  },
  {
   "cell_type": "markdown",
   "id": "721156e9",
   "metadata": {},
   "source": [
    "<b> Levels of Granularity </b>\n",
    "<p> There are different types and approaches for sentiment analysis </p>\n",
    "1. Document level (whole review of a product)\n",
    "2. Sentence level (opinion in a sentence only)\n",
    "3. Aspect level (opinion about different features of a product)\n",
    "<p> <b> 1. Rule or Lexicon based </b>\n",
    "List of words with scores </p>\n",
    "<p> <b> 2. Automated systems (based on machine learning) </b>\n",
    "Usually a classification problem. With historical data you try to retrieve sentiments and build a model around it, and then predict the sentiments of new piece of text. We can calculate the valence score of a text, using Python's textblob library.\n",
    "tuple polarity: 0 neutral, -1 neg and 1 pos. </p>\n",
    "\n",
    "<p> hybrid approach is probably the best </p>"
   ]
  },
  {
   "cell_type": "code",
   "execution_count": 1,
   "id": "fdb165e9",
   "metadata": {},
   "outputs": [],
   "source": [
    "import pandas as pd\n",
    "from textblob import TextBlob\n",
    "import numpy as np\n",
    "import nltk\n",
    "from nltk.sentiment.vader import SentimentIntensityAnalyzer\n",
    "import matplotlib.pyplot as plt"
   ]
  },
  {
   "cell_type": "markdown",
   "id": "3662682e",
   "metadata": {},
   "source": [
    "<h2> 1. Loading the dataframe</h2>\n",
    "that was consolidated in a previous notebook "
   ]
  },
  {
   "cell_type": "code",
   "execution_count": 2,
   "id": "c48d6e4d",
   "metadata": {},
   "outputs": [
    {
     "name": "stdout",
     "output_type": "stream",
     "text": [
      "<class 'pandas.core.frame.DataFrame'>\n",
      "RangeIndex: 2000 entries, 0 to 1999\n",
      "Data columns (total 5 columns):\n",
      " #   Column      Non-Null Count  Dtype \n",
      "---  ------      --------------  ----- \n",
      " 0   Unnamed: 0  2000 non-null   int64 \n",
      " 1   Year        2000 non-null   object\n",
      " 2   Session     2000 non-null   object\n",
      " 3   Country     2000 non-null   object\n",
      " 4   Transcript  2000 non-null   object\n",
      "dtypes: int64(1), object(4)\n",
      "memory usage: 78.2+ KB\n",
      "None\n"
     ]
    }
   ],
   "source": [
    "transcript = pd.read_csv(\"C:/Users/david/Documents/0_kul/1_ma_stds_1/0_mda/project/data/0_data/Converted sessions/consolidated-transcripts.csv\")\n",
    "df = transcript.head(2000)\n",
    "df.shape\n",
    "print(df.info())"
   ]
  },
  {
   "cell_type": "code",
   "execution_count": 3,
   "id": "9af3c41a",
   "metadata": {},
   "outputs": [
    {
     "name": "stdout",
     "output_type": "stream",
     "text": [
      "   Unnamed: 0  Year Session Country  \\\n",
      "0           0  1970      25     ALB   \n",
      "1           1  1970      25     ARG   \n",
      "2           2  1970      25     AUS   \n",
      "3           3  1970      25     AUT   \n",
      "4           4  1970      25     BEL   \n",
      "\n",
      "                                          Transcript  \n",
      "0  33: May I first convey to our President the co...  \n",
      "1  177.\\t : It is a fortunate coincidence that pr...  \n",
      "2  100.\\t  It is a pleasure for me to extend to y...  \n",
      "3  155.\\t  May I begin by expressing to Ambassado...  \n",
      "4  176. No doubt each of us, before coming up to ...  \n"
     ]
    }
   ],
   "source": [
    "print(df.head())"
   ]
  },
  {
   "cell_type": "markdown",
   "id": "1d3c067a",
   "metadata": {},
   "source": [
    "<h2> 2. Extracting polarity level </h2>\n",
    "We will extract the polarity level for each speech using Textblob"
   ]
  },
  {
   "cell_type": "code",
   "execution_count": 4,
   "id": "b73565ea",
   "metadata": {},
   "outputs": [],
   "source": [
    "# creating empty lists\n",
    "polarity = []\n",
    "subjectivity = []"
   ]
  },
  {
   "cell_type": "code",
   "execution_count": 5,
   "id": "9566a3f9",
   "metadata": {},
   "outputs": [],
   "source": [
    "# calculating the polarity and subjectivity level of each transcript\n",
    "for i in range(len(df)):\n",
    "    blob_polarity = TextBlob(df.Transcript.values[i]).sentiment[0]\n",
    "    blob_subjectivity = TextBlob(df.Transcript.values[i]).sentiment[1]\n",
    "    polarity.append(blob_polarity)\n",
    "    subjectivity.append(blob_subjectivity)"
   ]
  },
  {
   "cell_type": "code",
   "execution_count": 6,
   "id": "7211e3d0",
   "metadata": {},
   "outputs": [],
   "source": [
    "# converting the list into a numpy array\n",
    "pol_array = np.array(polarity)\n",
    "sub_array = np.array(subjectivity)"
   ]
  },
  {
   "cell_type": "code",
   "execution_count": 7,
   "id": "874ec532",
   "metadata": {},
   "outputs": [
    {
     "name": "stderr",
     "output_type": "stream",
     "text": [
      "<ipython-input-7-07dfa22d9f74>:2: SettingWithCopyWarning: \n",
      "A value is trying to be set on a copy of a slice from a DataFrame.\n",
      "Try using .loc[row_indexer,col_indexer] = value instead\n",
      "\n",
      "See the caveats in the documentation: https://pandas.pydata.org/pandas-docs/stable/user_guide/indexing.html#returning-a-view-versus-a-copy\n",
      "  df['polarity'] = pol_array\n",
      "<ipython-input-7-07dfa22d9f74>:3: SettingWithCopyWarning: \n",
      "A value is trying to be set on a copy of a slice from a DataFrame.\n",
      "Try using .loc[row_indexer,col_indexer] = value instead\n",
      "\n",
      "See the caveats in the documentation: https://pandas.pydata.org/pandas-docs/stable/user_guide/indexing.html#returning-a-view-versus-a-copy\n",
      "  df['subjectivity'] = sub_array\n"
     ]
    }
   ],
   "source": [
    "# adding the numpy arrays into the dataframe\n",
    "df['polarity'] = pol_array\n",
    "df['subjectivity'] = sub_array"
   ]
  },
  {
   "cell_type": "code",
   "execution_count": 8,
   "id": "0e89070b",
   "metadata": {},
   "outputs": [
    {
     "data": {
      "text/html": [
       "<div>\n",
       "<style scoped>\n",
       "    .dataframe tbody tr th:only-of-type {\n",
       "        vertical-align: middle;\n",
       "    }\n",
       "\n",
       "    .dataframe tbody tr th {\n",
       "        vertical-align: top;\n",
       "    }\n",
       "\n",
       "    .dataframe thead th {\n",
       "        text-align: right;\n",
       "    }\n",
       "</style>\n",
       "<table border=\"1\" class=\"dataframe\">\n",
       "  <thead>\n",
       "    <tr style=\"text-align: right;\">\n",
       "      <th></th>\n",
       "      <th>Unnamed: 0</th>\n",
       "      <th>Year</th>\n",
       "      <th>Session</th>\n",
       "      <th>Country</th>\n",
       "      <th>Transcript</th>\n",
       "      <th>polarity</th>\n",
       "      <th>subjectivity</th>\n",
       "    </tr>\n",
       "  </thead>\n",
       "  <tbody>\n",
       "    <tr>\n",
       "      <th>0</th>\n",
       "      <td>0</td>\n",
       "      <td>1970</td>\n",
       "      <td>25</td>\n",
       "      <td>ALB</td>\n",
       "      <td>33: May I first convey to our President the co...</td>\n",
       "      <td>0.116178</td>\n",
       "      <td>0.428103</td>\n",
       "    </tr>\n",
       "    <tr>\n",
       "      <th>1</th>\n",
       "      <td>1</td>\n",
       "      <td>1970</td>\n",
       "      <td>25</td>\n",
       "      <td>ARG</td>\n",
       "      <td>177.\\t : It is a fortunate coincidence that pr...</td>\n",
       "      <td>0.093982</td>\n",
       "      <td>0.420252</td>\n",
       "    </tr>\n",
       "    <tr>\n",
       "      <th>2</th>\n",
       "      <td>2</td>\n",
       "      <td>1970</td>\n",
       "      <td>25</td>\n",
       "      <td>AUS</td>\n",
       "      <td>100.\\t  It is a pleasure for me to extend to y...</td>\n",
       "      <td>0.096576</td>\n",
       "      <td>0.427271</td>\n",
       "    </tr>\n",
       "    <tr>\n",
       "      <th>3</th>\n",
       "      <td>3</td>\n",
       "      <td>1970</td>\n",
       "      <td>25</td>\n",
       "      <td>AUT</td>\n",
       "      <td>155.\\t  May I begin by expressing to Ambassado...</td>\n",
       "      <td>0.120814</td>\n",
       "      <td>0.383805</td>\n",
       "    </tr>\n",
       "    <tr>\n",
       "      <th>4</th>\n",
       "      <td>4</td>\n",
       "      <td>1970</td>\n",
       "      <td>25</td>\n",
       "      <td>BEL</td>\n",
       "      <td>176. No doubt each of us, before coming up to ...</td>\n",
       "      <td>0.119947</td>\n",
       "      <td>0.390931</td>\n",
       "    </tr>\n",
       "  </tbody>\n",
       "</table>\n",
       "</div>"
      ],
      "text/plain": [
       "   Unnamed: 0  Year Session Country  \\\n",
       "0           0  1970      25     ALB   \n",
       "1           1  1970      25     ARG   \n",
       "2           2  1970      25     AUS   \n",
       "3           3  1970      25     AUT   \n",
       "4           4  1970      25     BEL   \n",
       "\n",
       "                                          Transcript  polarity  subjectivity  \n",
       "0  33: May I first convey to our President the co...  0.116178      0.428103  \n",
       "1  177.\\t : It is a fortunate coincidence that pr...  0.093982      0.420252  \n",
       "2  100.\\t  It is a pleasure for me to extend to y...  0.096576      0.427271  \n",
       "3  155.\\t  May I begin by expressing to Ambassado...  0.120814      0.383805  \n",
       "4  176. No doubt each of us, before coming up to ...  0.119947      0.390931  "
      ]
     },
     "execution_count": 8,
     "metadata": {},
     "output_type": "execute_result"
    }
   ],
   "source": [
    "df.head()"
   ]
  },
  {
   "cell_type": "markdown",
   "id": "548e63b2",
   "metadata": {},
   "source": [
    "<h2> 3. Extracting polarity level </h2>\n",
    "We will extract the polarity level for each speech using Vader lexicon"
   ]
  },
  {
   "cell_type": "code",
   "execution_count": 9,
   "id": "0ad96c1a",
   "metadata": {},
   "outputs": [],
   "source": [
    "# Instantiate the sentiment intensity analyzer with the existing lexicon\n",
    "vader = SentimentIntensityAnalyzer()"
   ]
  },
  {
   "cell_type": "code",
   "execution_count": 10,
   "id": "cb042c24",
   "metadata": {},
   "outputs": [],
   "source": [
    "# Iterate through the headlines and get the polarity scores\n",
    "scores = [vader.polarity_scores(i) for i in df.Transcript.values]"
   ]
  },
  {
   "cell_type": "code",
   "execution_count": 11,
   "id": "2a5273bf",
   "metadata": {},
   "outputs": [],
   "source": [
    "# Convert the list of dicts into a DataFrame\n",
    "scores_df = pd.DataFrame(scores)"
   ]
  },
  {
   "cell_type": "code",
   "execution_count": 12,
   "id": "6883b60c",
   "metadata": {},
   "outputs": [],
   "source": [
    "# Join the DataFrames\n",
    "df_vader = pd.concat([df, scores_df], axis=1)"
   ]
  },
  {
   "cell_type": "code",
   "execution_count": 13,
   "id": "a321075d",
   "metadata": {},
   "outputs": [
    {
     "data": {
      "text/plain": [
       "(2000, 11)"
      ]
     },
     "execution_count": 13,
     "metadata": {},
     "output_type": "execute_result"
    }
   ],
   "source": [
    "df_vader.shape"
   ]
  },
  {
   "cell_type": "markdown",
   "id": "72f6aaba",
   "metadata": {},
   "source": [
    "<h2> 4. Plot sentiment </h2>"
   ]
  },
  {
   "cell_type": "markdown",
   "id": "d4fdd1c7",
   "metadata": {},
   "source": [
    "Vader sentiment"
   ]
  },
  {
   "cell_type": "code",
   "execution_count": 32,
   "id": "371c8b08",
   "metadata": {},
   "outputs": [],
   "source": [
    "y = df_vader.groupby(\"Year\")[\"pos\"].mean()\n",
    "x = y.index"
   ]
  },
  {
   "cell_type": "code",
   "execution_count": 33,
   "id": "dff98bbc",
   "metadata": {},
   "outputs": [
    {
     "data": {
      "text/plain": [
       "14"
      ]
     },
     "execution_count": 33,
     "metadata": {},
     "output_type": "execute_result"
    }
   ],
   "source": [
    "len(x)"
   ]
  },
  {
   "cell_type": "code",
   "execution_count": 34,
   "id": "e64f2fe0",
   "metadata": {},
   "outputs": [
    {
     "data": {
      "image/png": "[encoded data removed]",
      "text/plain": [
       "<Figure size 432x288 with 1 Axes>"
      ]
     },
     "metadata": {
      "needs_background": "light"
     },
     "output_type": "display_data"
    }
   ],
   "source": [
    "plt.scatter(x,y)\n",
    "plt.show()"
   ]
  },
  {
   "cell_type": "markdown",
   "id": "2ffd7ecb",
   "metadata": {},
   "source": [
    "Textblob sentiment"
   ]
  },
  {
   "cell_type": "code",
   "execution_count": 35,
   "id": "04dc8e75",
   "metadata": {},
   "outputs": [],
   "source": [
    "y_polarity = df.groupby('Year')['polarity'].mean()"
   ]
  },
  {
   "cell_type": "code",
   "execution_count": 36,
   "id": "d0d6b7d7",
   "metadata": {},
   "outputs": [],
   "source": [
    "x_polarity = y_polarity.index"
   ]
  },
  {
   "cell_type": "code",
   "execution_count": 37,
   "id": "004b73aa",
   "metadata": {},
   "outputs": [
    {
     "data": {
      "image/png": "[encoded data removed]",
      "text/plain": [
       "<Figure size 432x288 with 1 Axes>"
      ]
     },
     "metadata": {
      "needs_background": "light"
     },
     "output_type": "display_data"
    }
   ],
   "source": [
    "plt.scatter(x_polarity,y_polarity)\n",
    "plt.show()"
   ]
  },
  {
   "cell_type": "markdown",
   "id": "58b1c744",
   "metadata": {},
   "source": [
    "<h2> 5. polarity mean by country </h2>"
   ]
  },
  {
   "cell_type": "code",
   "execution_count": 39,
   "id": "334397b0",
   "metadata": {},
   "outputs": [],
   "source": [
    "mean_country = df_vader.groupby(\"Country\").mean()"
   ]
  },
  {
   "cell_type": "code",
   "execution_count": 40,
   "id": "ff52074e",
   "metadata": {},
   "outputs": [],
   "source": [
    "sorted_mean_country = mean_country.sort_values(by=['pos'],ascending=True)"
   ]
  },
  {
   "cell_type": "code",
   "execution_count": 41,
   "id": "1bae6c60",
   "metadata": {},
   "outputs": [
    {
     "name": "stdout",
     "output_type": "stream",
     "text": [
      "          Unnamed: 0  polarity  subjectivity       neg       neu       pos  \\\n",
      "Country                                                                      \n",
      "DMA      1457.500000  0.075196      0.401017  0.078500  0.795500  0.126000   \n",
      "CUB       870.312500  0.075532      0.400823  0.105750  0.762812  0.131250   \n",
      "LBY       909.562500  0.081772      0.376248  0.109063  0.752063  0.139000   \n",
      "LCA      1645.333333  0.105981      0.444268  0.095333  0.765000  0.139333   \n",
      "SYC      1496.833333  0.097353      0.417273  0.073333  0.784500  0.142167   \n",
      "SGP       942.500000  0.091815      0.434152  0.113063  0.744375  0.142687   \n",
      "MLI      1098.230769  0.091526      0.412974  0.097385  0.759615  0.143077   \n",
      "LSO      1182.900000  0.071962      0.390149  0.109400  0.747100  0.143500   \n",
      "ATG      1789.500000  0.061357      0.435352  0.115500  0.740000  0.144500   \n",
      "TTO       994.000000  0.102497      0.402328  0.065500  0.789800  0.144900   \n",
      "\n",
      "         compound  \n",
      "Country            \n",
      "DMA      0.999350  \n",
      "CUB      0.678681  \n",
      "LBY      0.635100  \n",
      "LCA      0.333567  \n",
      "SYC      0.999100  \n",
      "SGP      0.314600  \n",
      "MLI      0.992285  \n",
      "LSO      0.772580  \n",
      "ATG      0.998100  \n",
      "TTO      0.800960  \n"
     ]
    }
   ],
   "source": [
    "print(sorted_mean_country.head(10))"
   ]
  },
  {
   "cell_type": "code",
   "execution_count": 42,
   "id": "179e8668",
   "metadata": {},
   "outputs": [],
   "source": [
    "sorted_mean_country = mean_country.sort_values(by=['polarity'],ascending=True)"
   ]
  },
  {
   "cell_type": "code",
   "execution_count": 43,
   "id": "a4af5f43",
   "metadata": {},
   "outputs": [
    {
     "name": "stdout",
     "output_type": "stream",
     "text": [
      "          Unnamed: 0  polarity  subjectivity       neg       neu       pos  \\\n",
      "Country                                                                      \n",
      "ATG      1789.500000  0.061357      0.435352  0.115500  0.740000  0.144500   \n",
      "SOM       945.562500  0.065342      0.397001  0.106063  0.741750  0.152250   \n",
      "LSO      1182.900000  0.071962      0.390149  0.109400  0.747100  0.143500   \n",
      "ISR       899.312500  0.072949      0.414871  0.108875  0.737062  0.154000   \n",
      "DMA      1457.500000  0.075196      0.401017  0.078500  0.795500  0.126000   \n",
      "CUB       870.312500  0.075532      0.400823  0.105750  0.762812  0.131250   \n",
      "ETH      1058.153846  0.078681      0.399878  0.103308  0.738615  0.158000   \n",
      "BRB      1153.545455  0.081529      0.421131  0.104727  0.739000  0.156273   \n",
      "LBY       909.562500  0.081772      0.376248  0.109063  0.752063  0.139000   \n",
      "SDN       940.687500  0.081873      0.394330  0.100125  0.747938  0.152250   \n",
      "\n",
      "         compound  \n",
      "Country            \n",
      "ATG      0.998100  \n",
      "SOM      0.778169  \n",
      "LSO      0.772580  \n",
      "ISR      0.561681  \n",
      "DMA      0.999350  \n",
      "CUB      0.678681  \n",
      "ETH      0.692892  \n",
      "BRB      0.821273  \n",
      "LBY      0.635100  \n",
      "SDN      0.874656  \n"
     ]
    }
   ],
   "source": [
    "print(sorted_mean_country.head(10))"
   ]
  }
 ],
 "metadata": {
  "kernelspec": {
   "display_name": "Python 3",
   "language": "python",
   "name": "python3"
  },
  "language_info": {
   "codemirror_mode": {
    "name": "ipython",
    "version": 3
   },
   "file_extension": ".py",
   "mimetype": "text/x-python",
   "name": "python",
   "nbconvert_exporter": "python",
   "pygments_lexer": "ipython3",
   "version": "3.9.2"
  }
 },
 "nbformat": 4,
 "nbformat_minor": 5
}
